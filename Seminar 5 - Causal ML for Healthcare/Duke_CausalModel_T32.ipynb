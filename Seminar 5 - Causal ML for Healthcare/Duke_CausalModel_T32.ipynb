{
  "nbformat": 4,
  "nbformat_minor": 0,
  "metadata": {
    "colab": {
      "provenance": []
    },
    "kernelspec": {
      "name": "python3",
      "display_name": "Python 3"
    },
    "language_info": {
      "name": "python"
    }
  },
  "cells": [
    {
      "cell_type": "markdown",
      "source": [
        "This notebook has been prepared by Dennis P. Trujillo.\n",
        "\n",
        "It shows the following:\n",
        "\n",
        "1. How causal networks can be constructed using the important features to investigate relationships between cancer treatments and local tumor reccurrence."
      ],
      "metadata": {
        "id": "krP27-7iO_jZ"
      }
    },
    {
      "cell_type": "markdown",
      "source": [
        "Install packages"
      ],
      "metadata": {
        "id": "eK7dwA6_hYh6"
      }
    },
    {
      "cell_type": "code",
      "source": [
        "!pip install -q lingam\n",
        "!pip install -q igraph\n",
        "!pip install -q pygam\n",
        "!pip install -q factor_analyzer"
      ],
      "metadata": {
        "id": "Qo2_aQtehdKh",
        "colab": {
          "base_uri": "https://localhost:8080/"
        },
        "outputId": "2efe238d-5677-4174-ce4b-3033ca6ef6de"
      },
      "execution_count": null,
      "outputs": [
        {
          "output_type": "stream",
          "name": "stdout",
          "text": [
            "\u001b[2K     \u001b[90m━━━━━━━━━━━━━━━━━━━━━━━━━━━━━━━━━━━━━━━━\u001b[0m \u001b[32m95.7/95.7 kB\u001b[0m \u001b[31m1.7 MB/s\u001b[0m eta \u001b[36m0:00:00\u001b[0m\n",
            "\u001b[2K     \u001b[90m━━━━━━━━━━━━━━━━━━━━━━━━━━━━━━━━━━━━━━━━\u001b[0m \u001b[32m522.0/522.0 kB\u001b[0m \u001b[31m7.7 MB/s\u001b[0m eta \u001b[36m0:00:00\u001b[0m\n",
            "\u001b[2K     \u001b[90m━━━━━━━━━━━━━━━━━━━━━━━━━━━━━━━━━━━━━━━━\u001b[0m \u001b[32m1.6/1.6 MB\u001b[0m \u001b[31m11.3 MB/s\u001b[0m eta \u001b[36m0:00:00\u001b[0m\n",
            "\u001b[?25h  Preparing metadata (setup.py) ... \u001b[?25l\u001b[?25hdone\n",
            "\u001b[2K     \u001b[90m━━━━━━━━━━━━━━━━━━━━━━━━━━━━━━━━━━━━━━━━\u001b[0m \u001b[32m100.2/100.2 kB\u001b[0m \u001b[31m8.2 MB/s\u001b[0m eta \u001b[36m0:00:00\u001b[0m\n",
            "\u001b[?25h  Building wheel for semopy (setup.py) ... \u001b[?25l\u001b[?25hdone\n",
            "\u001b[2K     \u001b[90m━━━━━━━━━━━━━━━━━━━━━━━━━━━━━━━━━━━━━━━━\u001b[0m \u001b[32m3.3/3.3 MB\u001b[0m \u001b[31m17.3 MB/s\u001b[0m eta \u001b[36m0:00:00\u001b[0m\n",
            "\u001b[2K     \u001b[90m━━━━━━━━━━━━━━━━━━━━━━━━━━━━━━━━━━━━━━━━\u001b[0m \u001b[32m42.8/42.8 kB\u001b[0m \u001b[31m2.4 MB/s\u001b[0m eta \u001b[36m0:00:00\u001b[0m\n",
            "\u001b[?25h  Installing build dependencies ... \u001b[?25l\u001b[?25hdone\n",
            "  Getting requirements to build wheel ... \u001b[?25l\u001b[?25hdone\n",
            "  Installing backend dependencies ... \u001b[?25l\u001b[?25hdone\n",
            "  Preparing metadata (pyproject.toml) ... \u001b[?25l\u001b[?25hdone\n",
            "  Building wheel for factor_analyzer (pyproject.toml) ... \u001b[?25l\u001b[?25hdone\n"
          ]
        }
      ]
    },
    {
      "cell_type": "markdown",
      "source": [
        "Import essential libraries"
      ],
      "metadata": {
        "id": "Ivf4ex6tge_W"
      }
    },
    {
      "cell_type": "code",
      "metadata": {
        "id": "pUWf4M4LGfQz"
      },
      "source": [
        "import pandas as pd\n",
        "import numpy as np\n",
        "import plotly.express as px\n",
        "from pandas import json_normalize\n",
        "import matplotlib.pyplot as plt\n",
        "import seaborn as sns\n",
        "from sklearn.preprocessing import LabelEncoder\n",
        "from sklearn.ensemble import ExtraTreesRegressor\n",
        "import json\n",
        "from sklearn import preprocessing\n",
        "from sklearn.model_selection import train_test_split\n",
        "from sklearn.ensemble import ExtraTreesClassifier\n",
        "from IPython.display import Image\n",
        "from sklearn.tree import export_graphviz\n",
        "from subprocess import call\n",
        "from sklearn.model_selection import RandomizedSearchCV, GridSearchCV\n",
        "from sklearn.metrics import balanced_accuracy_score, confusion_matrix, classification_report\n",
        "import graphviz\n",
        "import lingam\n",
        "from lingam.utils import make_prior_knowledge\n",
        "from sklearn.linear_model import LogisticRegression"
      ],
      "execution_count": null,
      "outputs": []
    },
    {
      "cell_type": "markdown",
      "source": [
        "Mount Google Drive"
      ],
      "metadata": {
        "id": "8ZA_eDszJAO4"
      }
    },
    {
      "cell_type": "code",
      "source": [
        "from google.colab import drive\n",
        "drive.mount('/content/drive')"
      ],
      "metadata": {
        "id": "73d3Mmo3JD-M",
        "colab": {
          "base_uri": "https://localhost:8080/"
        },
        "outputId": "ab3e87a6-1fd6-414b-f0b3-6b1d52bb0520"
      },
      "execution_count": null,
      "outputs": [
        {
          "output_type": "stream",
          "name": "stdout",
          "text": [
            "Mounted at /content/drive\n"
          ]
        }
      ]
    },
    {
      "cell_type": "code",
      "source": [
        "patient_data='/content/drive/MyDrive/duke-mri-cleaned-tabular/duke-mri.csv'"
      ],
      "metadata": {
        "id": "9mV4ql_CJMhV"
      },
      "execution_count": null,
      "outputs": []
    },
    {
      "cell_type": "markdown",
      "source": [
        "Read in dataset"
      ],
      "metadata": {
        "id": "7zEDQB65Yv-e"
      }
    },
    {
      "cell_type": "code",
      "source": [
        "df = pd.read_csv(patient_data, on_bad_lines='skip').set_index('Patient ID')"
      ],
      "metadata": {
        "id": "zEyuMRaaYyb0"
      },
      "execution_count": null,
      "outputs": []
    },
    {
      "cell_type": "code",
      "source": [
        "endpoint ='Days to last local recurrence free assessment (from the date of diagnosis)'"
      ],
      "metadata": {
        "id": "R8V1fpAOFp_C"
      },
      "execution_count": null,
      "outputs": []
    },
    {
      "cell_type": "code",
      "metadata": {
        "colab": {
          "base_uri": "https://localhost:8080/"
        },
        "id": "icGIl2uzIUEr",
        "outputId": "4628de02-d8b9-470e-ed9a-201652671cb6"
      },
      "source": [
        "df.columns"
      ],
      "execution_count": null,
      "outputs": [
        {
          "output_type": "execute_result",
          "data": {
            "text/plain": [
              "Index(['Date of Birth (Days)', 'Menopause (at diagnosis)',\n",
              "       'Race and Ethnicity',\n",
              "       'Metastatic at Presentation (Outside of Lymph Nodes)', 'ER', 'PR',\n",
              "       'HER2', 'Mol Subtype', 'Staging(Tumor Size)# [T]',\n",
              "       'Staging(Nodes)#(Nx replaced by -1)[N]',\n",
              "       'Staging(Metastasis)#(Mx -replaced by -1)[M]',\n",
              "       'Tumor Grade(T)\\n(Tubule)', 'Tumor Grade(N)\\n(Nuclear)',\n",
              "       'Tumor Grade(M)\\n(Mitotic)', 'Multicentric/Multifocal',\n",
              "       'Contralateral Breast Involvement',\n",
              "       'Lymphadenopathy or Suspicious Nodes', 'Skin/Nipple Invovlement',\n",
              "       'Pec/Chest Involvement', 'Surgery',\n",
              "       'Days to Surgery (from the date of diagnosis)',\n",
              "       'Definitive Surgery Type', 'Neoadjuvant Radiation Therapy',\n",
              "       'Adjuvant Radiation Therapy', 'Recurrence event(s)',\n",
              "       'Days to last local recurrence free assessment (from the date of diagnosis)',\n",
              "       'Days to last distant recurrence free assemssment(from the date of diagnosis)',\n",
              "       'Neoadjuvant Chemotherapy', 'Adjuvant Chemotherapy',\n",
              "       'Neoadjuvant Endocrine Therapy Medications',\n",
              "       'Adjuvant Endocrine Therapy Medications', 'Known Ovarian Status',\n",
              "       'Therapeutic or Prophylactic Oophorectomy as part of Endocrine Therapy',\n",
              "       'Neoadjuvant Anti-Her2 Neu Therapy', 'Adjuvant Anti-Her2 Neu Therapy',\n",
              "       'Received Neoadjuvant Therapy or Not', 'outlier'],\n",
              "      dtype='object')"
            ]
          },
          "metadata": {},
          "execution_count": 7
        }
      ]
    },
    {
      "cell_type": "markdown",
      "metadata": {
        "id": "zgK3UiiGE07_"
      },
      "source": [
        "Split Featurized Data into train-test sets w/80-20 split"
      ]
    },
    {
      "cell_type": "code",
      "source": [
        "X = df.loc[:,df.columns != endpoint]\n",
        "Y = df[endpoint]"
      ],
      "metadata": {
        "id": "ErY9jRuhFleB"
      },
      "execution_count": null,
      "outputs": []
    },
    {
      "cell_type": "code",
      "execution_count": null,
      "metadata": {
        "id": "6BFLOLgZi-kr"
      },
      "outputs": [],
      "source": [
        "from sklearn.model_selection import train_test_split\n",
        "\n",
        "X_train, X_test, y_train, y_test = train_test_split(X, Y, test_size=0.2,random_state=2)"
      ]
    },
    {
      "cell_type": "code",
      "source": [
        "from pandas.core.common import random_state\n",
        "# Number of trees in random forest\n",
        "n_estimators = [int(x) for x in np.linspace(start = 100, stop = 500, num = 5)]\n",
        "# Number of features to consider at every split\n",
        "max_features = ['auto', 'sqrt']\n",
        "# Maximum number of levels in tree\n",
        "max_depth = [int(x) for x in np.linspace(10, 110, num = 11)]\n",
        "max_depth.append(None)\n",
        "# Minimum number of samples required to split a node\n",
        "min_samples_split = [2, 5, 10, 15]\n",
        "# Minimum number of samples required at each leaf node\n",
        "min_samples_leaf = [1, 2, 4, 8]\n",
        "# Method of selecting samples for training each tree\n",
        "bootstrap = [True]#,False]\n",
        "# Create the random grid\n",
        "tuned_parameters = {'n_estimators': n_estimators,'max_features': max_features,'max_depth': max_depth,\n",
        "                'min_samples_split': min_samples_split,'min_samples_leaf': min_samples_leaf,'bootstrap': bootstrap}"
      ],
      "metadata": {
        "id": "WQQw4tOqFSO-"
      },
      "execution_count": null,
      "outputs": []
    },
    {
      "cell_type": "code",
      "source": [
        "from sklearn.model_selection import GridSearchCV, RandomizedSearchCV\n",
        "from sklearn.ensemble import RandomForestRegressor, ExtraTreesRegressor\n",
        "\n",
        "\n",
        "score = 'neg_mean_squared_error' #mse_scorer\n",
        "\n",
        "forest = RandomizedSearchCV(ExtraTreesRegressor(random_state=1),tuned_parameters,verbose=10,cv=5,n_jobs=-1,scoring=score)\n",
        "\n",
        "forest.fit(X_train, y_train)\n",
        "\n",
        "print(\"Best parameters set found on development set:\")\n",
        "print()\n",
        "print(str(forest.best_params_))\n",
        "print()\n",
        "print('Score:')\n",
        "print(str(forest.best_score_))\n",
        "print()\n",
        "print('done!...')"
      ],
      "metadata": {
        "colab": {
          "base_uri": "https://localhost:8080/"
        },
        "id": "J0nbdFMDFY1Z",
        "outputId": "d257d73f-ef58-461c-c5e6-1ffa821ae64d"
      },
      "execution_count": null,
      "outputs": [
        {
          "output_type": "stream",
          "name": "stdout",
          "text": [
            "Fitting 5 folds for each of 10 candidates, totalling 50 fits\n"
          ]
        },
        {
          "output_type": "stream",
          "name": "stderr",
          "text": [
            "/usr/local/lib/python3.10/dist-packages/sklearn/ensemble/_forest.py:413: FutureWarning: `max_features='auto'` has been deprecated in 1.1 and will be removed in 1.3. To keep the past behaviour, explicitly set `max_features=1.0` or remove this parameter as it is also the default value for RandomForestRegressors and ExtraTreesRegressors.\n",
            "  warn(\n"
          ]
        },
        {
          "output_type": "stream",
          "name": "stdout",
          "text": [
            "Best parameters set found on development set:\n",
            "\n",
            "{'n_estimators': 300, 'min_samples_split': 10, 'min_samples_leaf': 4, 'max_features': 'auto', 'max_depth': 70, 'bootstrap': True}\n",
            "\n",
            "Score:\n",
            "-18764.261555462377\n",
            "\n",
            "done!...\n"
          ]
        }
      ]
    },
    {
      "cell_type": "code",
      "source": [
        "params = dict(forest.best_params_)\n",
        "forest_c = RandomForestRegressor(**params)\n",
        "forest_c.fit(X,Y)"
      ],
      "metadata": {
        "colab": {
          "base_uri": "https://localhost:8080/",
          "height": 147
        },
        "id": "xMSBxx-mhBsb",
        "outputId": "1fc6532b-35bc-4a3e-8efc-2cd76674561f"
      },
      "execution_count": null,
      "outputs": [
        {
          "output_type": "stream",
          "name": "stderr",
          "text": [
            "/usr/local/lib/python3.10/dist-packages/sklearn/ensemble/_forest.py:413: FutureWarning: `max_features='auto'` has been deprecated in 1.1 and will be removed in 1.3. To keep the past behaviour, explicitly set `max_features=1.0` or remove this parameter as it is also the default value for RandomForestRegressors and ExtraTreesRegressors.\n",
            "  warn(\n"
          ]
        },
        {
          "output_type": "execute_result",
          "data": {
            "text/plain": [
              "RandomForestRegressor(max_depth=70, max_features='auto', min_samples_leaf=4,\n",
              "                      min_samples_split=10, n_estimators=300)"
            ],
            "text/html": [
              "<style>#sk-container-id-1 {color: black;background-color: white;}#sk-container-id-1 pre{padding: 0;}#sk-container-id-1 div.sk-toggleable {background-color: white;}#sk-container-id-1 label.sk-toggleable__label {cursor: pointer;display: block;width: 100%;margin-bottom: 0;padding: 0.3em;box-sizing: border-box;text-align: center;}#sk-container-id-1 label.sk-toggleable__label-arrow:before {content: \"▸\";float: left;margin-right: 0.25em;color: #696969;}#sk-container-id-1 label.sk-toggleable__label-arrow:hover:before {color: black;}#sk-container-id-1 div.sk-estimator:hover label.sk-toggleable__label-arrow:before {color: black;}#sk-container-id-1 div.sk-toggleable__content {max-height: 0;max-width: 0;overflow: hidden;text-align: left;background-color: #f0f8ff;}#sk-container-id-1 div.sk-toggleable__content pre {margin: 0.2em;color: black;border-radius: 0.25em;background-color: #f0f8ff;}#sk-container-id-1 input.sk-toggleable__control:checked~div.sk-toggleable__content {max-height: 200px;max-width: 100%;overflow: auto;}#sk-container-id-1 input.sk-toggleable__control:checked~label.sk-toggleable__label-arrow:before {content: \"▾\";}#sk-container-id-1 div.sk-estimator input.sk-toggleable__control:checked~label.sk-toggleable__label {background-color: #d4ebff;}#sk-container-id-1 div.sk-label input.sk-toggleable__control:checked~label.sk-toggleable__label {background-color: #d4ebff;}#sk-container-id-1 input.sk-hidden--visually {border: 0;clip: rect(1px 1px 1px 1px);clip: rect(1px, 1px, 1px, 1px);height: 1px;margin: -1px;overflow: hidden;padding: 0;position: absolute;width: 1px;}#sk-container-id-1 div.sk-estimator {font-family: monospace;background-color: #f0f8ff;border: 1px dotted black;border-radius: 0.25em;box-sizing: border-box;margin-bottom: 0.5em;}#sk-container-id-1 div.sk-estimator:hover {background-color: #d4ebff;}#sk-container-id-1 div.sk-parallel-item::after {content: \"\";width: 100%;border-bottom: 1px solid gray;flex-grow: 1;}#sk-container-id-1 div.sk-label:hover label.sk-toggleable__label {background-color: #d4ebff;}#sk-container-id-1 div.sk-serial::before {content: \"\";position: absolute;border-left: 1px solid gray;box-sizing: border-box;top: 0;bottom: 0;left: 50%;z-index: 0;}#sk-container-id-1 div.sk-serial {display: flex;flex-direction: column;align-items: center;background-color: white;padding-right: 0.2em;padding-left: 0.2em;position: relative;}#sk-container-id-1 div.sk-item {position: relative;z-index: 1;}#sk-container-id-1 div.sk-parallel {display: flex;align-items: stretch;justify-content: center;background-color: white;position: relative;}#sk-container-id-1 div.sk-item::before, #sk-container-id-1 div.sk-parallel-item::before {content: \"\";position: absolute;border-left: 1px solid gray;box-sizing: border-box;top: 0;bottom: 0;left: 50%;z-index: -1;}#sk-container-id-1 div.sk-parallel-item {display: flex;flex-direction: column;z-index: 1;position: relative;background-color: white;}#sk-container-id-1 div.sk-parallel-item:first-child::after {align-self: flex-end;width: 50%;}#sk-container-id-1 div.sk-parallel-item:last-child::after {align-self: flex-start;width: 50%;}#sk-container-id-1 div.sk-parallel-item:only-child::after {width: 0;}#sk-container-id-1 div.sk-dashed-wrapped {border: 1px dashed gray;margin: 0 0.4em 0.5em 0.4em;box-sizing: border-box;padding-bottom: 0.4em;background-color: white;}#sk-container-id-1 div.sk-label label {font-family: monospace;font-weight: bold;display: inline-block;line-height: 1.2em;}#sk-container-id-1 div.sk-label-container {text-align: center;}#sk-container-id-1 div.sk-container {/* jupyter's `normalize.less` sets `[hidden] { display: none; }` but bootstrap.min.css set `[hidden] { display: none !important; }` so we also need the `!important` here to be able to override the default hidden behavior on the sphinx rendered scikit-learn.org. See: https://github.com/scikit-learn/scikit-learn/issues/21755 */display: inline-block !important;position: relative;}#sk-container-id-1 div.sk-text-repr-fallback {display: none;}</style><div id=\"sk-container-id-1\" class=\"sk-top-container\"><div class=\"sk-text-repr-fallback\"><pre>RandomForestRegressor(max_depth=70, max_features=&#x27;auto&#x27;, min_samples_leaf=4,\n",
              "                      min_samples_split=10, n_estimators=300)</pre><b>In a Jupyter environment, please rerun this cell to show the HTML representation or trust the notebook. <br />On GitHub, the HTML representation is unable to render, please try loading this page with nbviewer.org.</b></div><div class=\"sk-container\" hidden><div class=\"sk-item\"><div class=\"sk-estimator sk-toggleable\"><input class=\"sk-toggleable__control sk-hidden--visually\" id=\"sk-estimator-id-1\" type=\"checkbox\" checked><label for=\"sk-estimator-id-1\" class=\"sk-toggleable__label sk-toggleable__label-arrow\">RandomForestRegressor</label><div class=\"sk-toggleable__content\"><pre>RandomForestRegressor(max_depth=70, max_features=&#x27;auto&#x27;, min_samples_leaf=4,\n",
              "                      min_samples_split=10, n_estimators=300)</pre></div></div></div></div></div>"
            ]
          },
          "metadata": {},
          "execution_count": 12
        }
      ]
    },
    {
      "cell_type": "code",
      "source": [
        "#predict probabilities on training set\n",
        "model_train = forest.predict(X_train)"
      ],
      "metadata": {
        "id": "1Akj7GbtTMRy"
      },
      "execution_count": null,
      "outputs": []
    },
    {
      "cell_type": "markdown",
      "source": [
        "Feature Importance"
      ],
      "metadata": {
        "id": "jgW_rq_iROCI"
      }
    },
    {
      "cell_type": "code",
      "metadata": {
        "id": "YU5KooYoMLnK"
      },
      "source": [
        "#use best hyperparams and determine feature importance\n",
        "importances = forest_c.feature_importances_"
      ],
      "execution_count": null,
      "outputs": []
    },
    {
      "cell_type": "code",
      "metadata": {
        "id": "Rvn-nYnC3sIa"
      },
      "source": [
        "std = np.std([tree.feature_importances_ for tree in forest_c.estimators_],\n",
        "             axis=0)\n",
        "indices = np.argsort(importances)[::-1]"
      ],
      "execution_count": null,
      "outputs": []
    },
    {
      "cell_type": "code",
      "source": [
        "#These are the top n most important features...\n",
        "features = X.columns\n",
        "ranked_features=[]\n",
        "importances_feat = []\n",
        "n_features = 20\n",
        "for f in range(n_features):#X.shape[1]):\n",
        "  ranked_features.append(features[indices[f]])\n",
        "  importances_feat.append(importances[indices[f]])"
      ],
      "metadata": {
        "id": "5ZObOs14hzF9"
      },
      "execution_count": null,
      "outputs": []
    },
    {
      "cell_type": "code",
      "source": [
        "intermediate_dictionary = {'Features':ranked_features, 'Importances':importances_feat}\n",
        "# Convert dictionary to Pandas dataframe\n",
        "feat_df = pd.DataFrame(intermediate_dictionary)"
      ],
      "metadata": {
        "id": "IfVCVYA3hzJa"
      },
      "execution_count": null,
      "outputs": []
    },
    {
      "cell_type": "code",
      "metadata": {
        "id": "G1zOHmjQF952"
      },
      "source": [
        "#prepare dataframe based on the 10 most important features\n",
        "X_causal = df.filter([feat_df['Features'][0],feat_df['Features'][1],feat_df['Features'][2],\n",
        "                      feat_df['Features'][3],feat_df['Features'][4],feat_df['Features'][5],\n",
        "                      feat_df['Features'][6],feat_df['Features'][7],feat_df['Features'][8],\n",
        "                      feat_df['Features'][9],\"target_label\"],axis=1)"
      ],
      "execution_count": null,
      "outputs": []
    },
    {
      "cell_type": "code",
      "metadata": {
        "id": "8m4h2CNuLUnD"
      },
      "source": [
        "np.random.seed(0)"
      ],
      "execution_count": null,
      "outputs": []
    },
    {
      "cell_type": "code",
      "metadata": {
        "id": "8umxntZ5LUqr"
      },
      "source": [
        "#@title Utility function for causal network\n",
        "#utility function\n",
        "def make_graph(adjacency_matrix, labels=None):\n",
        "    idx = np.abs(adjacency_matrix) > 0.01\n",
        "    dirs = np.where(idx)\n",
        "    d = graphviz.Digraph(engine='dot')\n",
        "    names = labels if labels else [f'x{i}' for i in range(len(adjacency_matrix))]\n",
        "    for to, from_, coef in zip(dirs[0], dirs[1], adjacency_matrix[idx]):\n",
        "        d.edge(names[from_], names[to], label=f'{coef:.2f}')\n",
        "    return d"
      ],
      "execution_count": null,
      "outputs": []
    },
    {
      "cell_type": "code",
      "metadata": {
        "colab": {
          "base_uri": "https://localhost:8080/",
          "height": 611
        },
        "id": "Iwki-9QcM2RT",
        "outputId": "ae494deb-7162-48c3-ed9b-713d96a9ffe6"
      },
      "source": [
        "#create DirectLinGAM object\n",
        "np.seterr(invalid=\"ignore\")\n",
        "pk = make_prior_knowledge(\n",
        "    n_variables=len(X_causal.columns))\n",
        "\n",
        "model = lingam.DirectLiNGAM(prior_knowledge=pk)\n",
        "model.fit(X_causal)\n",
        "labels = [f'{i}. {col}' for i, col in enumerate(X_causal.columns)]\n",
        "make_graph(model.adjacency_matrix_, labels)"
      ],
      "execution_count": null,
      "outputs": [
        {
          "output_type": "execute_result",
          "data": {
            "image/svg+xml": "<?xml version=\"1.0\" encoding=\"UTF-8\" standalone=\"no\"?>\n<!DOCTYPE svg PUBLIC \"-//W3C//DTD SVG 1.1//EN\"\n \"http://www.w3.org/Graphics/SVG/1.1/DTD/svg11.dtd\">\n<!-- Generated by graphviz version 2.43.0 (0)\n -->\n<!-- Title: %3 Pages: 1 -->\n<svg width=\"1062pt\" height=\"427pt\"\n viewBox=\"0.00 0.00 1062.01 427.48\" xmlns=\"http://www.w3.org/2000/svg\" xmlns:xlink=\"http://www.w3.org/1999/xlink\">\n<g id=\"graph0\" class=\"graph\" transform=\"scale(1 1) rotate(0) translate(4 423.48)\">\n<title>%3</title>\n<polygon fill=\"white\" stroke=\"transparent\" points=\"-4,4 -4,-423.48 1058.01,-423.48 1058.01,4 -4,4\"/>\n<!-- 2. Days to Surgery (from the date of diagnosis) -->\n<g id=\"node1\" class=\"node\">\n<title>2. Days to Surgery (from the date of diagnosis)</title>\n<ellipse fill=\"none\" stroke=\"black\" cx=\"389.92\" cy=\"-192\" rx=\"178.97\" ry=\"18\"/>\n<text text-anchor=\"middle\" x=\"389.92\" y=\"-188.3\" font-family=\"Times,serif\" font-size=\"14.00\">2. Days to Surgery (from the date of diagnosis)</text>\n</g>\n<!-- 0. Days to last distant recurrence free assemssment(from the date of diagnosis) -->\n<g id=\"node2\" class=\"node\">\n<title>0. Days to last distant recurrence free assemssment(from the date of diagnosis)</title>\n<ellipse fill=\"none\" stroke=\"black\" cx=\"359.92\" cy=\"-18\" rx=\"291.65\" ry=\"18\"/>\n<text text-anchor=\"middle\" x=\"359.92\" y=\"-14.3\" font-family=\"Times,serif\" font-size=\"14.00\">0. Days to last distant recurrence free assemssment(from the date of diagnosis)</text>\n</g>\n<!-- 2. Days to Surgery (from the date of diagnosis)&#45;&gt;0. Days to last distant recurrence free assemssment(from the date of diagnosis) -->\n<g id=\"edge1\" class=\"edge\">\n<title>2. Days to Surgery (from the date of diagnosis)&#45;&gt;0. Days to last distant recurrence free assemssment(from the date of diagnosis)</title>\n<path fill=\"none\" stroke=\"black\" d=\"M383.53,-173.93C378.72,-160.33 372.38,-140.7 368.92,-123 363.89,-97.25 361.67,-67.37 360.69,-46.26\"/>\n<polygon fill=\"black\" stroke=\"black\" points=\"364.18,-45.94 360.28,-36.09 357.19,-46.22 364.18,-45.94\"/>\n<text text-anchor=\"middle\" x=\"383.42\" y=\"-101.3\" font-family=\"Times,serif\" font-size=\"14.00\">&#45;0.57</text>\n</g>\n<!-- 8. Adjuvant Anti&#45;Her2 Neu Therapy -->\n<g id=\"node3\" class=\"node\">\n<title>8. Adjuvant Anti&#45;Her2 Neu Therapy</title>\n<ellipse fill=\"none\" stroke=\"black\" cx=\"544.92\" cy=\"-105\" rx=\"138.38\" ry=\"18\"/>\n<text text-anchor=\"middle\" x=\"544.92\" y=\"-101.3\" font-family=\"Times,serif\" font-size=\"14.00\">8. Adjuvant Anti&#45;Her2 Neu Therapy</text>\n</g>\n<!-- 2. Days to Surgery (from the date of diagnosis)&#45;&gt;8. Adjuvant Anti&#45;Her2 Neu Therapy -->\n<g id=\"edge11\" class=\"edge\">\n<title>2. Days to Surgery (from the date of diagnosis)&#45;&gt;8. Adjuvant Anti&#45;Her2 Neu Therapy</title>\n<path fill=\"none\" stroke=\"black\" d=\"M420.54,-174.21C444.93,-160.83 479.23,-142.02 505.64,-127.54\"/>\n<polygon fill=\"black\" stroke=\"black\" points=\"507.54,-130.49 514.62,-122.61 504.17,-124.35 507.54,-130.49\"/>\n<text text-anchor=\"middle\" x=\"489.42\" y=\"-144.8\" font-family=\"Times,serif\" font-size=\"14.00\">0.35</text>\n</g>\n<!-- 8. Adjuvant Anti&#45;Her2 Neu Therapy&#45;&gt;0. Days to last distant recurrence free assemssment(from the date of diagnosis) -->\n<g id=\"edge2\" class=\"edge\">\n<title>8. Adjuvant Anti&#45;Her2 Neu Therapy&#45;&gt;0. Days to last distant recurrence free assemssment(from the date of diagnosis)</title>\n<path fill=\"none\" stroke=\"black\" d=\"M508.81,-87.41C479.43,-73.91 437.77,-54.77 405.99,-40.17\"/>\n<polygon fill=\"black\" stroke=\"black\" points=\"407.43,-36.98 396.89,-35.99 404.51,-43.34 407.43,-36.98\"/>\n<text text-anchor=\"middle\" x=\"478.42\" y=\"-57.8\" font-family=\"Times,serif\" font-size=\"14.00\">&#45;0.97</text>\n</g>\n<!-- 4. Date of Birth (Days) -->\n<g id=\"node8\" class=\"node\">\n<title>4. Date of Birth (Days)</title>\n<ellipse fill=\"none\" stroke=\"black\" cx=\"762.92\" cy=\"-18\" rx=\"92.88\" ry=\"18\"/>\n<text text-anchor=\"middle\" x=\"762.92\" y=\"-14.3\" font-family=\"Times,serif\" font-size=\"14.00\">4. Date of Birth (Days)</text>\n</g>\n<!-- 8. Adjuvant Anti&#45;Her2 Neu Therapy&#45;&gt;4. Date of Birth (Days) -->\n<g id=\"edge8\" class=\"edge\">\n<title>8. Adjuvant Anti&#45;Her2 Neu Therapy&#45;&gt;4. Date of Birth (Days)</title>\n<path fill=\"none\" stroke=\"black\" d=\"M586.44,-87.81C622.77,-73.65 675.58,-53.05 713.96,-38.09\"/>\n<polygon fill=\"black\" stroke=\"black\" points=\"715.35,-41.31 723.39,-34.41 712.8,-34.78 715.35,-41.31\"/>\n<text text-anchor=\"middle\" x=\"680.42\" y=\"-57.8\" font-family=\"Times,serif\" font-size=\"14.00\">1.19</text>\n</g>\n<!-- 1. Recurrence event(s) -->\n<g id=\"node4\" class=\"node\">\n<title>1. Recurrence event(s)</title>\n<ellipse fill=\"none\" stroke=\"black\" cx=\"148.92\" cy=\"-287.87\" rx=\"90.98\" ry=\"18\"/>\n<text text-anchor=\"middle\" x=\"148.92\" y=\"-284.17\" font-family=\"Times,serif\" font-size=\"14.00\">1. Recurrence event(s)</text>\n</g>\n<!-- 1. Recurrence event(s)&#45;&gt;2. Days to Surgery (from the date of diagnosis) -->\n<g id=\"edge3\" class=\"edge\">\n<title>1. Recurrence event(s)&#45;&gt;2. Days to Surgery (from the date of diagnosis)</title>\n<path fill=\"none\" stroke=\"black\" d=\"M188.18,-271.58C228.93,-255.7 292.9,-230.79 337.86,-213.28\"/>\n<polygon fill=\"black\" stroke=\"black\" points=\"339.38,-216.44 347.43,-209.55 336.84,-209.92 339.38,-216.44\"/>\n<text text-anchor=\"middle\" x=\"311.42\" y=\"-231.8\" font-family=\"Times,serif\" font-size=\"14.00\">0.86</text>\n</g>\n<!-- 3. Staging(Nodes)#(Nx replaced by &#45;1)[N] -->\n<g id=\"node5\" class=\"node\">\n<title>3. Staging(Nodes)#(Nx replaced by &#45;1)[N]</title>\n<ellipse fill=\"none\" stroke=\"black\" cx=\"418.92\" cy=\"-287.87\" rx=\"161.37\" ry=\"18\"/>\n<text text-anchor=\"middle\" x=\"418.92\" y=\"-284.17\" font-family=\"Times,serif\" font-size=\"14.00\">3. Staging(Nodes)#(Nx replaced by &#45;1)[N]</text>\n</g>\n<!-- 3. Staging(Nodes)#(Nx replaced by &#45;1)[N]&#45;&gt;2. Days to Surgery (from the date of diagnosis) -->\n<g id=\"edge4\" class=\"edge\">\n<title>3. Staging(Nodes)#(Nx replaced by &#45;1)[N]&#45;&gt;2. Days to Surgery (from the date of diagnosis)</title>\n<path fill=\"none\" stroke=\"black\" d=\"M413.6,-269.65C409.31,-255.76 403.19,-235.96 398.25,-219.97\"/>\n<polygon fill=\"black\" stroke=\"black\" points=\"401.5,-218.63 395.2,-210.11 394.81,-220.7 401.5,-218.63\"/>\n<text text-anchor=\"middle\" x=\"418.42\" y=\"-231.8\" font-family=\"Times,serif\" font-size=\"14.00\">0.70</text>\n</g>\n<!-- 5. Mol Subtype -->\n<g id=\"node6\" class=\"node\">\n<title>5. Mol Subtype</title>\n<ellipse fill=\"none\" stroke=\"black\" cx=\"708.92\" cy=\"-392.61\" rx=\"66.09\" ry=\"18\"/>\n<text text-anchor=\"middle\" x=\"708.92\" y=\"-388.91\" font-family=\"Times,serif\" font-size=\"14.00\">5. Mol Subtype</text>\n</g>\n<!-- 5. Mol Subtype&#45;&gt;2. Days to Surgery (from the date of diagnosis) -->\n<g id=\"edge5\" class=\"edge\">\n<title>5. Mol Subtype&#45;&gt;2. Days to Surgery (from the date of diagnosis)</title>\n<path fill=\"none\" stroke=\"black\" d=\"M643.69,-389.21C479.5,-382.51 59.27,-360.95 17.92,-314.74 -49.53,-239.37 87.21,-210.49 213.5,-199.52\"/>\n<polygon fill=\"black\" stroke=\"black\" points=\"214.06,-202.98 223.73,-198.66 213.47,-196.01 214.06,-202.98\"/>\n<text text-anchor=\"middle\" x=\"33.42\" y=\"-284.17\" font-family=\"Times,serif\" font-size=\"14.00\">15.93</text>\n</g>\n<!-- 9. Menopause (at diagnosis) -->\n<g id=\"node7\" class=\"node\">\n<title>9. Menopause (at diagnosis)</title>\n<ellipse fill=\"none\" stroke=\"black\" cx=\"708.92\" cy=\"-287.87\" rx=\"111.28\" ry=\"18\"/>\n<text text-anchor=\"middle\" x=\"708.92\" y=\"-284.17\" font-family=\"Times,serif\" font-size=\"14.00\">9. Menopause (at diagnosis)</text>\n</g>\n<!-- 5. Mol Subtype&#45;&gt;9. Menopause (at diagnosis) -->\n<g id=\"edge12\" class=\"edge\">\n<title>5. Mol Subtype&#45;&gt;9. Menopause (at diagnosis)</title>\n<path fill=\"none\" stroke=\"black\" d=\"M708.92,-374.18C708.92,-358.29 708.92,-334.56 708.92,-316.16\"/>\n<polygon fill=\"black\" stroke=\"black\" points=\"712.42,-316.04 708.92,-306.04 705.42,-316.04 712.42,-316.04\"/>\n<text text-anchor=\"middle\" x=\"723.42\" y=\"-336.54\" font-family=\"Times,serif\" font-size=\"14.00\">&#45;0.04</text>\n</g>\n<!-- 5. Mol Subtype&#45;&gt;4. Date of Birth (Days) -->\n<g id=\"edge7\" class=\"edge\">\n<title>5. Mol Subtype&#45;&gt;4. Date of Birth (Days)</title>\n<path fill=\"none\" stroke=\"black\" d=\"M753.28,-379.22C793.96,-364.84 847.92,-336.73 847.92,-288.87 847.92,-288.87 847.92,-288.87 847.92,-104 847.92,-76.73 825.78,-55.16 804.1,-40.57\"/>\n<polygon fill=\"black\" stroke=\"black\" points=\"805.86,-37.54 795.54,-35.13 802.1,-43.45 805.86,-37.54\"/>\n<text text-anchor=\"middle\" x=\"866.92\" y=\"-188.3\" font-family=\"Times,serif\" font-size=\"14.00\">323.30</text>\n</g>\n<!-- 9. Menopause (at diagnosis)&#45;&gt;2. Days to Surgery (from the date of diagnosis) -->\n<g id=\"edge6\" class=\"edge\">\n<title>9. Menopause (at diagnosis)&#45;&gt;2. Days to Surgery (from the date of diagnosis)</title>\n<path fill=\"none\" stroke=\"black\" d=\"M657.67,-271.79C602.44,-255.54 514.45,-229.64 454.52,-212.01\"/>\n<polygon fill=\"black\" stroke=\"black\" points=\"455.37,-208.61 444.79,-209.15 453.39,-215.33 455.37,-208.61\"/>\n<text text-anchor=\"middle\" x=\"577.92\" y=\"-231.8\" font-family=\"Times,serif\" font-size=\"14.00\">&#45;28.79</text>\n</g>\n<!-- 9. Menopause (at diagnosis)&#45;&gt;4. Date of Birth (Days) -->\n<g id=\"edge9\" class=\"edge\">\n<title>9. Menopause (at diagnosis)&#45;&gt;4. Date of Birth (Days)</title>\n<path fill=\"none\" stroke=\"black\" d=\"M712.38,-269.71C721.52,-224.35 746.38,-101.02 757.46,-46.06\"/>\n<polygon fill=\"black\" stroke=\"black\" points=\"760.94,-46.52 759.49,-36.02 754.08,-45.13 760.94,-46.52\"/>\n<text text-anchor=\"middle\" x=\"762.42\" y=\"-144.8\" font-family=\"Times,serif\" font-size=\"14.00\">&#45;5060.48</text>\n</g>\n<!-- 7. Tumor Grade(N)\n(Nuclear) -->\n<g id=\"node9\" class=\"node\">\n<title>7. Tumor Grade(N)\n(Nuclear)</title>\n<ellipse fill=\"none\" stroke=\"black\" cx=\"964.92\" cy=\"-392.61\" rx=\"86.95\" ry=\"26.74\"/>\n<text text-anchor=\"middle\" x=\"964.92\" y=\"-396.41\" font-family=\"Times,serif\" font-size=\"14.00\">7. Tumor Grade(N)</text>\n<text text-anchor=\"middle\" x=\"964.92\" y=\"-381.41\" font-family=\"Times,serif\" font-size=\"14.00\">(Nuclear)</text>\n</g>\n<!-- 6. Tumor Grade(M)\n(Mitotic) -->\n<g id=\"node10\" class=\"node\">\n<title>6. Tumor Grade(M)\n(Mitotic)</title>\n<ellipse fill=\"none\" stroke=\"black\" cx=\"964.92\" cy=\"-287.87\" rx=\"89.19\" ry=\"26.74\"/>\n<text text-anchor=\"middle\" x=\"964.92\" y=\"-291.67\" font-family=\"Times,serif\" font-size=\"14.00\">6. Tumor Grade(M)</text>\n<text text-anchor=\"middle\" x=\"964.92\" y=\"-276.67\" font-family=\"Times,serif\" font-size=\"14.00\">(Mitotic)</text>\n</g>\n<!-- 7. Tumor Grade(N)\n(Nuclear)&#45;&gt;6. Tumor Grade(M)\n(Mitotic) -->\n<g id=\"edge10\" class=\"edge\">\n<title>7. Tumor Grade(N)\n(Nuclear)&#45;&gt;6. Tumor Grade(M)\n(Mitotic)</title>\n<path fill=\"none\" stroke=\"black\" d=\"M964.92,-365.68C964.92,-353.4 964.92,-338.51 964.92,-325.12\"/>\n<polygon fill=\"black\" stroke=\"black\" points=\"968.42,-324.79 964.92,-314.79 961.42,-324.79 968.42,-324.79\"/>\n<text text-anchor=\"middle\" x=\"977.42\" y=\"-336.54\" font-family=\"Times,serif\" font-size=\"14.00\">0.99</text>\n</g>\n</g>\n</svg>\n",
            "text/plain": [
              "<graphviz.graphs.Digraph at 0x7c97c08879a0>"
            ]
          },
          "metadata": {},
          "execution_count": 21
        }
      ]
    },
    {
      "cell_type": "code",
      "source": [],
      "metadata": {
        "id": "MfS_V6T6MkOE"
      },
      "execution_count": null,
      "outputs": []
    }
  ]
}