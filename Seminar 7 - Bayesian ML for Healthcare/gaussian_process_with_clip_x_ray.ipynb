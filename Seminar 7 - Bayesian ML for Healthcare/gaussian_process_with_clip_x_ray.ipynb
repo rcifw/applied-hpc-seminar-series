{
  "cells": [
    {
      "cell_type": "markdown",
      "id": "3P4uGf9XQeoM",
      "metadata": {
        "id": "3P4uGf9XQeoM"
      },
      "source": [
        "# CLIP GP Classifier for Chest X-Ray Images\n",
        "\n",
        "This notebook implements a Gaussian Process classifier using CLIP embeddings for chest X-ray image classification."
      ]
    },
    {
      "cell_type": "markdown",
      "id": "8AvetWVxQeoN",
      "metadata": {
        "id": "8AvetWVxQeoN"
      },
      "source": [
        "## Setup and Imports\n",
        "\n",
        "First, let's install the required packages and import the necessary libraries."
      ]
    },
    {
      "cell_type": "code",
      "execution_count": null,
      "id": "tCO5Wtb2QhTi",
      "metadata": {
        "colab": {
          "base_uri": "https://localhost:8080/"
        },
        "id": "tCO5Wtb2QhTi",
        "outputId": "2b6e15c9-068d-4e33-a7c2-13b4f9bcb5e8"
      },
      "outputs": [
        {
          "name": "stdout",
          "output_type": "stream",
          "text": [
            "Requirement already satisfied: torch in /usr/local/lib/python3.10/dist-packages (2.3.1+cu121)\n",
            "Requirement already satisfied: torchvision in /usr/local/lib/python3.10/dist-packages (0.18.1+cu121)\n",
            "Requirement already satisfied: gpytorch in /usr/local/lib/python3.10/dist-packages (1.12)\n",
            "Requirement already satisfied: scikit-learn in /usr/local/lib/python3.10/dist-packages (1.3.2)\n",
            "Requirement already satisfied: seaborn in /usr/local/lib/python3.10/dist-packages (0.13.1)\n",
            "Requirement already satisfied: tqdm in /usr/local/lib/python3.10/dist-packages (4.66.5)\n",
            "Requirement already satisfied: filelock in /usr/local/lib/python3.10/dist-packages (from torch) (3.15.4)\n",
            "Requirement already satisfied: typing-extensions>=4.8.0 in /usr/local/lib/python3.10/dist-packages (from torch) (4.12.2)\n",
            "Requirement already satisfied: sympy in /usr/local/lib/python3.10/dist-packages (from torch) (1.13.2)\n",
            "Requirement already satisfied: networkx in /usr/local/lib/python3.10/dist-packages (from torch) (3.3)\n",
            "Requirement already satisfied: jinja2 in /usr/local/lib/python3.10/dist-packages (from torch) (3.1.4)\n",
            "Requirement already satisfied: fsspec in /usr/local/lib/python3.10/dist-packages (from torch) (2024.6.1)\n",
            "Requirement already satisfied: nvidia-cuda-nvrtc-cu12==12.1.105 in /usr/local/lib/python3.10/dist-packages (from torch) (12.1.105)\n",
            "Requirement already satisfied: nvidia-cuda-runtime-cu12==12.1.105 in /usr/local/lib/python3.10/dist-packages (from torch) (12.1.105)\n",
            "Requirement already satisfied: nvidia-cuda-cupti-cu12==12.1.105 in /usr/local/lib/python3.10/dist-packages (from torch) (12.1.105)\n",
            "Requirement already satisfied: nvidia-cudnn-cu12==8.9.2.26 in /usr/local/lib/python3.10/dist-packages (from torch) (8.9.2.26)\n",
            "Requirement already satisfied: nvidia-cublas-cu12==12.1.3.1 in /usr/local/lib/python3.10/dist-packages (from torch) (12.1.3.1)\n",
            "Requirement already satisfied: nvidia-cufft-cu12==11.0.2.54 in /usr/local/lib/python3.10/dist-packages (from torch) (11.0.2.54)\n",
            "Requirement already satisfied: nvidia-curand-cu12==10.3.2.106 in /usr/local/lib/python3.10/dist-packages (from torch) (10.3.2.106)\n",
            "Requirement already satisfied: nvidia-cusolver-cu12==11.4.5.107 in /usr/local/lib/python3.10/dist-packages (from torch) (11.4.5.107)\n",
            "Requirement already satisfied: nvidia-cusparse-cu12==12.1.0.106 in /usr/local/lib/python3.10/dist-packages (from torch) (12.1.0.106)\n",
            "Requirement already satisfied: nvidia-nccl-cu12==2.20.5 in /usr/local/lib/python3.10/dist-packages (from torch) (2.20.5)\n",
            "Requirement already satisfied: nvidia-nvtx-cu12==12.1.105 in /usr/local/lib/python3.10/dist-packages (from torch) (12.1.105)\n",
            "Requirement already satisfied: triton==2.3.1 in /usr/local/lib/python3.10/dist-packages (from torch) (2.3.1)\n",
            "Requirement already satisfied: nvidia-nvjitlink-cu12 in /usr/local/lib/python3.10/dist-packages (from nvidia-cusolver-cu12==11.4.5.107->torch) (12.6.20)\n",
            "Requirement already satisfied: numpy in /usr/local/lib/python3.10/dist-packages (from torchvision) (1.26.4)\n",
            "Requirement already satisfied: pillow!=8.3.*,>=5.3.0 in /usr/local/lib/python3.10/dist-packages (from torchvision) (9.4.0)\n",
            "Requirement already satisfied: mpmath<=1.3,>=0.19 in /usr/local/lib/python3.10/dist-packages (from gpytorch) (1.3.0)\n",
            "Requirement already satisfied: scipy in /usr/local/lib/python3.10/dist-packages (from gpytorch) (1.13.1)\n",
            "Requirement already satisfied: linear-operator>=0.5.2 in /usr/local/lib/python3.10/dist-packages (from gpytorch) (0.5.3)\n",
            "Requirement already satisfied: joblib>=1.1.1 in /usr/local/lib/python3.10/dist-packages (from scikit-learn) (1.4.2)\n",
            "Requirement already satisfied: threadpoolctl>=2.0.0 in /usr/local/lib/python3.10/dist-packages (from scikit-learn) (3.5.0)\n",
            "Requirement already satisfied: pandas>=1.2 in /usr/local/lib/python3.10/dist-packages (from seaborn) (2.1.4)\n",
            "Requirement already satisfied: matplotlib!=3.6.1,>=3.4 in /usr/local/lib/python3.10/dist-packages (from seaborn) (3.7.1)\n",
            "Requirement already satisfied: jaxtyping==0.2.19 in /usr/local/lib/python3.10/dist-packages (from linear-operator>=0.5.2->gpytorch) (0.2.19)\n",
            "Requirement already satisfied: typeguard>=2.13.3 in /usr/local/lib/python3.10/dist-packages (from jaxtyping==0.2.19->linear-operator>=0.5.2->gpytorch) (4.3.0)\n",
            "Requirement already satisfied: contourpy>=1.0.1 in /usr/local/lib/python3.10/dist-packages (from matplotlib!=3.6.1,>=3.4->seaborn) (1.2.1)\n",
            "Requirement already satisfied: cycler>=0.10 in /usr/local/lib/python3.10/dist-packages (from matplotlib!=3.6.1,>=3.4->seaborn) (0.12.1)\n",
            "Requirement already satisfied: fonttools>=4.22.0 in /usr/local/lib/python3.10/dist-packages (from matplotlib!=3.6.1,>=3.4->seaborn) (4.53.1)\n",
            "Requirement already satisfied: kiwisolver>=1.0.1 in /usr/local/lib/python3.10/dist-packages (from matplotlib!=3.6.1,>=3.4->seaborn) (1.4.5)\n",
            "Requirement already satisfied: packaging>=20.0 in /usr/local/lib/python3.10/dist-packages (from matplotlib!=3.6.1,>=3.4->seaborn) (24.1)\n",
            "Requirement already satisfied: pyparsing>=2.3.1 in /usr/local/lib/python3.10/dist-packages (from matplotlib!=3.6.1,>=3.4->seaborn) (3.1.2)\n",
            "Requirement already satisfied: python-dateutil>=2.7 in /usr/local/lib/python3.10/dist-packages (from matplotlib!=3.6.1,>=3.4->seaborn) (2.8.2)\n",
            "Requirement already satisfied: pytz>=2020.1 in /usr/local/lib/python3.10/dist-packages (from pandas>=1.2->seaborn) (2024.1)\n",
            "Requirement already satisfied: tzdata>=2022.1 in /usr/local/lib/python3.10/dist-packages (from pandas>=1.2->seaborn) (2024.1)\n",
            "Requirement already satisfied: MarkupSafe>=2.0 in /usr/local/lib/python3.10/dist-packages (from jinja2->torch) (2.1.5)\n",
            "Requirement already satisfied: six>=1.5 in /usr/local/lib/python3.10/dist-packages (from python-dateutil>=2.7->matplotlib!=3.6.1,>=3.4->seaborn) (1.16.0)\n",
            "Collecting git+https://github.com/openai/CLIP.git\n",
            "  Cloning https://github.com/openai/CLIP.git to /tmp/pip-req-build-f3ymct9y\n",
            "  Running command git clone --filter=blob:none --quiet https://github.com/openai/CLIP.git /tmp/pip-req-build-f3ymct9y\n",
            "  Resolved https://github.com/openai/CLIP.git to commit dcba3cb2e2827b402d2701e7e1c7d9fed8a20ef1\n",
            "  Preparing metadata (setup.py) ... \u001b[?25l\u001b[?25hdone\n",
            "Requirement already satisfied: ftfy in /usr/local/lib/python3.10/dist-packages (from clip==1.0) (6.2.3)\n",
            "Requirement already satisfied: packaging in /usr/local/lib/python3.10/dist-packages (from clip==1.0) (24.1)\n",
            "Requirement already satisfied: regex in /usr/local/lib/python3.10/dist-packages (from clip==1.0) (2024.5.15)\n",
            "Requirement already satisfied: tqdm in /usr/local/lib/python3.10/dist-packages (from clip==1.0) (4.66.5)\n",
            "Requirement already satisfied: torch in /usr/local/lib/python3.10/dist-packages (from clip==1.0) (2.3.1+cu121)\n",
            "Requirement already satisfied: torchvision in /usr/local/lib/python3.10/dist-packages (from clip==1.0) (0.18.1+cu121)\n",
            "Requirement already satisfied: wcwidth<0.3.0,>=0.2.12 in /usr/local/lib/python3.10/dist-packages (from ftfy->clip==1.0) (0.2.13)\n",
            "Requirement already satisfied: filelock in /usr/local/lib/python3.10/dist-packages (from torch->clip==1.0) (3.15.4)\n",
            "Requirement already satisfied: typing-extensions>=4.8.0 in /usr/local/lib/python3.10/dist-packages (from torch->clip==1.0) (4.12.2)\n",
            "Requirement already satisfied: sympy in /usr/local/lib/python3.10/dist-packages (from torch->clip==1.0) (1.13.2)\n",
            "Requirement already satisfied: networkx in /usr/local/lib/python3.10/dist-packages (from torch->clip==1.0) (3.3)\n",
            "Requirement already satisfied: jinja2 in /usr/local/lib/python3.10/dist-packages (from torch->clip==1.0) (3.1.4)\n",
            "Requirement already satisfied: fsspec in /usr/local/lib/python3.10/dist-packages (from torch->clip==1.0) (2024.6.1)\n",
            "Requirement already satisfied: nvidia-cuda-nvrtc-cu12==12.1.105 in /usr/local/lib/python3.10/dist-packages (from torch->clip==1.0) (12.1.105)\n",
            "Requirement already satisfied: nvidia-cuda-runtime-cu12==12.1.105 in /usr/local/lib/python3.10/dist-packages (from torch->clip==1.0) (12.1.105)\n",
            "Requirement already satisfied: nvidia-cuda-cupti-cu12==12.1.105 in /usr/local/lib/python3.10/dist-packages (from torch->clip==1.0) (12.1.105)\n",
            "Requirement already satisfied: nvidia-cudnn-cu12==8.9.2.26 in /usr/local/lib/python3.10/dist-packages (from torch->clip==1.0) (8.9.2.26)\n",
            "Requirement already satisfied: nvidia-cublas-cu12==12.1.3.1 in /usr/local/lib/python3.10/dist-packages (from torch->clip==1.0) (12.1.3.1)\n",
            "Requirement already satisfied: nvidia-cufft-cu12==11.0.2.54 in /usr/local/lib/python3.10/dist-packages (from torch->clip==1.0) (11.0.2.54)\n",
            "Requirement already satisfied: nvidia-curand-cu12==10.3.2.106 in /usr/local/lib/python3.10/dist-packages (from torch->clip==1.0) (10.3.2.106)\n",
            "Requirement already satisfied: nvidia-cusolver-cu12==11.4.5.107 in /usr/local/lib/python3.10/dist-packages (from torch->clip==1.0) (11.4.5.107)\n",
            "Requirement already satisfied: nvidia-cusparse-cu12==12.1.0.106 in /usr/local/lib/python3.10/dist-packages (from torch->clip==1.0) (12.1.0.106)\n",
            "Requirement already satisfied: nvidia-nccl-cu12==2.20.5 in /usr/local/lib/python3.10/dist-packages (from torch->clip==1.0) (2.20.5)\n",
            "Requirement already satisfied: nvidia-nvtx-cu12==12.1.105 in /usr/local/lib/python3.10/dist-packages (from torch->clip==1.0) (12.1.105)\n",
            "Requirement already satisfied: triton==2.3.1 in /usr/local/lib/python3.10/dist-packages (from torch->clip==1.0) (2.3.1)\n",
            "Requirement already satisfied: nvidia-nvjitlink-cu12 in /usr/local/lib/python3.10/dist-packages (from nvidia-cusolver-cu12==11.4.5.107->torch->clip==1.0) (12.6.20)\n",
            "Requirement already satisfied: numpy in /usr/local/lib/python3.10/dist-packages (from torchvision->clip==1.0) (1.26.4)\n",
            "Requirement already satisfied: pillow!=8.3.*,>=5.3.0 in /usr/local/lib/python3.10/dist-packages (from torchvision->clip==1.0) (9.4.0)\n",
            "Requirement already satisfied: MarkupSafe>=2.0 in /usr/local/lib/python3.10/dist-packages (from jinja2->torch->clip==1.0) (2.1.5)\n",
            "Requirement already satisfied: mpmath<1.4,>=1.1.0 in /usr/local/lib/python3.10/dist-packages (from sympy->torch->clip==1.0) (1.3.0)\n"
          ]
        }
      ],
      "source": [
        "!pip install torch torchvision gpytorch scikit-learn seaborn tqdm\n",
        "!pip install git+https://github.com/openai/CLIP.git"
      ]
    },
    {
      "cell_type": "code",
      "execution_count": null,
      "id": "w3xct5DrQeoO",
      "metadata": {
        "colab": {
          "base_uri": "https://localhost:8080/"
        },
        "id": "w3xct5DrQeoO",
        "outputId": "c52a8a03-4b61-44ee-9c91-c46ba5eefd1b"
      },
      "outputs": [
        {
          "name": "stdout",
          "output_type": "stream",
          "text": [
            "Using device: cuda\n"
          ]
        }
      ],
      "source": [
        "import torch\n",
        "import gpytorch\n",
        "import clip\n",
        "import os\n",
        "import numpy as np\n",
        "from torchvision import datasets, transforms\n",
        "from sklearn.metrics import confusion_matrix\n",
        "from sklearn.model_selection import train_test_split\n",
        "import matplotlib.pyplot as plt\n",
        "import seaborn as sns\n",
        "import copy\n",
        "from torch import nn\n",
        "import torch.optim as optim\n",
        "from tqdm import tqdm\n",
        "from PIL import Image\n",
        "\n",
        "# Set up device and random seed\n",
        "torch.manual_seed(0)\n",
        "device = torch.device(\"cuda\" if torch.cuda.is_available() else \"cpu\")\n",
        "print(f\"Using device: {device}\")"
      ]
    },
    {
      "cell_type": "markdown",
      "id": "ENEX1dZtQeoO",
      "metadata": {
        "id": "ENEX1dZtQeoO"
      },
      "source": [
        "## Download Dataset\n",
        "\n",
        "Next, we'll download and extract the ChestXRay2017 dataset."
      ]
    },
    {
      "cell_type": "code",
      "execution_count": null,
      "id": "QYvi8LeGQeoP",
      "metadata": {
        "id": "QYvi8LeGQeoP"
      },
      "outputs": [],
      "source": [
        "!if [ ! -f ChestXRay2017.zip ]; then gdown --fuzzy https://drive.google.com/file/d/1jf1XvAeXPD4XAerknz5inxM0StuCNbyX/view?usp=sharing; unzip ChestXRay2017.zip; fi"
      ]
    },
    {
      "cell_type": "markdown",
      "id": "f3_-HukYQeoP",
      "metadata": {
        "id": "f3_-HukYQeoP"
      },
      "source": [
        "## Constants and Model Initialization\n",
        "\n",
        "Now, let's set up our constants and initialize the CLIP model."
      ]
    },
    {
      "cell_type": "code",
      "execution_count": null,
      "id": "J9h7IYUgQeoP",
      "metadata": {
        "id": "J9h7IYUgQeoP"
      },
      "outputs": [],
      "source": [
        "# Constants\n",
        "data_dir = 'chest_xray'\n",
        "batch_size = 4\n",
        "num_workers = 4\n",
        "epoch_num = 100\n",
        "lr = 1e-4\n",
        "\n",
        "# Load CLIP model\n",
        "clip_model, clip_preprocess = clip.load(\"ViT-B/32\", device=device)"
      ]
    },
    {
      "cell_type": "markdown",
      "id": "WgTHYbsIQeoP",
      "metadata": {
        "id": "WgTHYbsIQeoP"
      },
      "source": [
        "## Custom Dataset and Data Loaders\n",
        "\n",
        "We'll create a custom dataset class and set up our data loaders."
      ]
    },
    {
      "cell_type": "code",
      "execution_count": null,
      "id": "eEOxJN7JQeoP",
      "metadata": {
        "colab": {
          "base_uri": "https://localhost:8080/"
        },
        "id": "eEOxJN7JQeoP",
        "outputId": "cea141a4-f9a8-4bdf-d4f4-1467ad5416a7"
      },
      "outputs": [
        {
          "name": "stdout",
          "output_type": "stream",
          "text": [
            "Dataset size: 5232\n",
            "Class names: ['NORMAL', 'PNEUMONIA']\n"
          ]
        }
      ],
      "source": [
        "# Custom dataset to return file paths\n",
        "class CustomImageDataset(datasets.ImageFolder):\n",
        "    def __getitem__(self, index):\n",
        "        path, target = self.samples[index]\n",
        "        return path, target\n",
        "\n",
        "# Load dataset\n",
        "image_dataset = CustomImageDataset(os.path.join(data_dir, 'train'))  # Assuming all data is in 'train'\n",
        "dataset_size = len(image_dataset)\n",
        "class_names = image_dataset.classes\n",
        "\n",
        "print(f\"Dataset size: {dataset_size}\")\n",
        "print(f\"Class names: {class_names}\")"
      ]
    },
    {
      "cell_type": "markdown",
      "id": "65AwZ_6YQeoP",
      "metadata": {
        "id": "65AwZ_6YQeoP"
      },
      "source": [
        "## Embedding Generation\n",
        "\n",
        "This function generates CLIP embeddings for our images:"
      ]
    },
    {
      "cell_type": "code",
      "execution_count": null,
      "id": "PzMcNIQAQeoP",
      "metadata": {
        "colab": {
          "base_uri": "https://localhost:8080/"
        },
        "id": "PzMcNIQAQeoP",
        "outputId": "d8c3376b-cf4e-490d-c15f-01530e4596fe"
      },
      "outputs": [
        {
          "name": "stdout",
          "output_type": "stream",
          "text": [
            "Generating CLIP embeddings...\n"
          ]
        },
        {
          "name": "stderr",
          "output_type": "stream",
          "text": [
            "Generating embeddings: 100%|██████████| 5232/5232 [01:57<00:00, 44.66it/s]"
          ]
        },
        {
          "name": "stdout",
          "output_type": "stream",
          "text": [
            "Training size: 4185, Test size: 1047\n"
          ]
        },
        {
          "name": "stderr",
          "output_type": "stream",
          "text": [
            "\n"
          ]
        }
      ],
      "source": [
        "def generate_embeddings(image_paths, model, preprocess):\n",
        "    all_embeddings = []\n",
        "    all_labels = []\n",
        "    all_filenames = []\n",
        "\n",
        "    model.eval()\n",
        "    with torch.no_grad():\n",
        "        for path, label in tqdm(image_paths, desc=\"Generating embeddings\"):\n",
        "            image = preprocess(Image.open(path)).unsqueeze(0).to(device)\n",
        "            embedding = model.encode_image(image)\n",
        "\n",
        "            all_embeddings.append(embedding.cpu().numpy())\n",
        "            all_labels.append(label)\n",
        "            all_filenames.append(os.path.relpath(path, data_dir))\n",
        "\n",
        "    return np.vstack(all_embeddings), np.array(all_labels), np.array(all_filenames)\n",
        "\n",
        "# Generate embeddings for the entire dataset\n",
        "print(\"Generating CLIP embeddings...\")\n",
        "embeddings, labels, filenames = generate_embeddings(image_dataset.samples, clip_model, clip_preprocess)\n",
        "\n",
        "# Split into training and test sets\n",
        "X_train, X_test, y_train, y_test, filenames_train, filenames_test = train_test_split(\n",
        "    embeddings, labels, filenames, test_size=0.2, random_state=42, stratify=labels)\n",
        "\n",
        "print(f\"Training size: {len(y_train)}, Test size: {len(y_test)}\")"
      ]
    },
    {
      "cell_type": "markdown",
      "id": "ITySFCn4QeoP",
      "metadata": {
        "id": "ITySFCn4QeoP"
      },
      "source": [
        "## GP Model Definition\n",
        "\n",
        "Here's our Gaussian Process model definition:"
      ]
    },
    {
      "cell_type": "code",
      "execution_count": null,
      "id": "IZ3jVH4UQeoP",
      "metadata": {
        "id": "IZ3jVH4UQeoP"
      },
      "outputs": [],
      "source": [
        "class GPClassificationModel(gpytorch.models.AbstractVariationalGP):\n",
        "    def __init__(self, num_features):\n",
        "        variational_distribution = gpytorch.variational.CholeskyVariationalDistribution(num_inducing_points=500)\n",
        "        variational_strategy = gpytorch.variational.VariationalStrategy(\n",
        "            self, torch.randn(500, num_features), variational_distribution, learn_inducing_locations=False\n",
        "        )\n",
        "        super(GPClassificationModel, self).__init__(variational_strategy)\n",
        "        self.mean_module = gpytorch.means.ConstantMean()\n",
        "        self.covar_module = gpytorch.kernels.ScaleKernel(gpytorch.kernels.RBFKernel())\n",
        "\n",
        "    def forward(self, x):\n",
        "        mean_x = self.mean_module(x)\n",
        "        covar_x = self.covar_module(x)\n",
        "        return gpytorch.distributions.MultivariateNormal(mean_x, covar_x)\n",
        "\n",
        "# Initialize models\n",
        "gp_model = GPClassificationModel(num_features=512).to(device)  # CLIP ViT-B/32 outputs 512-dimensional features\n",
        "likelihood = gpytorch.likelihoods.BernoulliLikelihood().to(device)"
      ]
    },
    {
      "cell_type": "markdown",
      "id": "TWLfdXKjQeoQ",
      "metadata": {
        "id": "TWLfdXKjQeoQ"
      },
      "source": [
        "## Training Function\n",
        "\n",
        "Here's our main training function:"
      ]
    },
    {
      "cell_type": "code",
      "execution_count": null,
      "id": "crDe-MwzQeoQ",
      "metadata": {
        "id": "crDe-MwzQeoQ"
      },
      "outputs": [],
      "source": [
        "def train_model(clip_model, gp_model, likelihood, optimizer, scheduler, num_epochs, X_train, y_train):\n",
        "    best_model_wts = {\n",
        "        'gp_model': copy.deepcopy(gp_model.state_dict()),\n",
        "        'likelihood': copy.deepcopy(likelihood.state_dict())\n",
        "    }\n",
        "    best_acc = 0.0\n",
        "\n",
        "    mll = gpytorch.mlls.VariationalELBO(likelihood, gp_model, num_data=len(y_train))\n",
        "\n",
        "    for epoch in range(num_epochs):\n",
        "        print(f'Epoch {epoch+1}/{num_epochs}')\n",
        "        print('-' * 10)\n",
        "\n",
        "        gp_model.train()\n",
        "        likelihood.train()\n",
        "\n",
        "        running_loss = 0.0\n",
        "        running_corrects = 0\n",
        "        total_samples = 0\n",
        "\n",
        "        # Convert to tensors\n",
        "        embeddings = torch.tensor(X_train).to(device)\n",
        "        labels = torch.tensor(y_train).to(device).float()\n",
        "\n",
        "        # Process in batches\n",
        "        for i in range(0, len(embeddings), batch_size):\n",
        "            batch_embeddings = embeddings[i:i+batch_size]\n",
        "            batch_labels = labels[i:i+batch_size]\n",
        "\n",
        "            optimizer.zero_grad()\n",
        "\n",
        "            outputs = gp_model(batch_embeddings)\n",
        "            loss = -mll(outputs, batch_labels)\n",
        "\n",
        "            loss.backward()\n",
        "            optimizer.step()\n",
        "\n",
        "            with torch.no_grad():\n",
        "                pred_probs = likelihood(outputs).probs\n",
        "                preds = (pred_probs > 0.5).float().squeeze()\n",
        "\n",
        "            running_loss += loss.item() * batch_embeddings.size(0)\n",
        "            running_corrects += torch.sum(preds == batch_labels.data)\n",
        "            total_samples += batch_embeddings.size(0)\n",
        "\n",
        "        scheduler.step()\n",
        "\n",
        "        epoch_loss = running_loss / total_samples\n",
        "        epoch_acc = running_corrects.double() / total_samples\n",
        "\n",
        "        print(f'Train Loss: {epoch_loss:.4f}')# Acc: {epoch_acc:.4f}')\n",
        "\n",
        "        if epoch_acc > best_acc:\n",
        "            best_acc = epoch_acc\n",
        "            best_model_wts = {\n",
        "                'gp_model': copy.deepcopy(gp_model.state_dict()),\n",
        "                'likelihood': copy.deepcopy(likelihood.state_dict())\n",
        "            }\n",
        "\n",
        "    print(f'Best Train Acc: {best_acc:.4f}')\n",
        "\n",
        "    # Load best model weights\n",
        "    gp_model.load_state_dict(best_model_wts['gp_model'])\n",
        "    likelihood.load_state_dict(best_model_wts['likelihood'])\n",
        "\n",
        "    return gp_model, likelihood"
      ]
    },
    {
      "cell_type": "markdown",
      "id": "G9cx64ZbQeoQ",
      "metadata": {
        "id": "G9cx64ZbQeoQ"
      },
      "source": [
        "## Evaluation Function\n",
        "\n",
        "This function evaluates our trained model:"
      ]
    },
    {
      "cell_type": "code",
      "execution_count": null,
      "id": "w6JP13KwQeoQ",
      "metadata": {
        "id": "w6JP13KwQeoQ"
      },
      "outputs": [],
      "source": [
        "def evaluate_model(gp_model, likelihood, X_test, y_test):\n",
        "    gp_model.eval()\n",
        "    likelihood.eval()\n",
        "\n",
        "    embeddings = torch.tensor(X_test).to(device)\n",
        "    labels = torch.tensor(y_test).to(device).float()\n",
        "\n",
        "    correct = 0\n",
        "    total = 0\n",
        "    all_preds = []\n",
        "    all_labels = []\n",
        "    uncertainties = []\n",
        "\n",
        "    with torch.no_grad(), gpytorch.settings.fast_pred_var():\n",
        "        for i in range(0, len(embeddings), batch_size):\n",
        "            batch_embeddings = embeddings[i:i+batch_size]\n",
        "            batch_labels = labels[i:i+batch_size]\n",
        "\n",
        "            output = gp_model(batch_embeddings)\n",
        "            predictions = likelihood(output)\n",
        "\n",
        "            probs = predictions.probs\n",
        "            preds = (probs > 0.5).float()\n",
        "            correct += (preds == batch_labels).sum().item()\n",
        "            total += batch_labels.size(0)\n",
        "\n",
        "            all_preds.extend(preds.cpu().numpy())\n",
        "            all_labels.extend(batch_labels.cpu().numpy())\n",
        "\n",
        "            # Adjust the entropy calculation to work with 1D probabilities\n",
        "            entropy = - (probs * torch.log(probs + 1e-10) + (1 - probs) * torch.log(1 - probs + 1e-10))\n",
        "            uncertainties.extend(entropy.cpu().numpy())\n",
        "\n",
        "    accuracy = correct / total\n",
        "    print(f'Test Accuracy: {accuracy:.4f}')\n",
        "    return all_preds, all_labels, uncertainties, probs"
      ]
    },
    {
      "cell_type": "markdown",
      "id": "7ZO_ShhnQeoQ",
      "metadata": {
        "id": "7ZO_ShhnQeoQ"
      },
      "source": [
        "## Training and Evaluation\n",
        "\n",
        "Now, let's train and evaluate our model:"
      ]
    },
    {
      "cell_type": "code",
      "execution_count": null,
      "id": "cgmBbZSlQeoQ",
      "metadata": {
        "colab": {
          "background_save": true,
          "base_uri": "https://localhost:8080/"
        },
        "id": "cgmBbZSlQeoQ",
        "outputId": "eebeb635-ccc5-4856-c614-1652e80108f0"
      },
      "outputs": [
        {
          "name": "stdout",
          "output_type": "stream",
          "text": [
            "Epoch 1/100\n",
            "----------\n",
            "Train Loss: 0.8850\n",
            "Epoch 2/100\n",
            "----------\n",
            "Train Loss: 0.8434\n",
            "Epoch 3/100\n",
            "----------\n",
            "Train Loss: 0.8080\n",
            "Epoch 4/100\n",
            "----------\n",
            "Train Loss: 0.7778\n",
            "Epoch 5/100\n",
            "----------\n",
            "Train Loss: 0.7520\n",
            "Epoch 6/100\n",
            "----------\n",
            "Train Loss: 0.7301\n",
            "Epoch 7/100\n",
            "----------\n",
            "Train Loss: 0.7115\n",
            "Epoch 8/100\n",
            "----------\n",
            "Train Loss: 0.6957\n",
            "Epoch 9/100\n",
            "----------\n",
            "Train Loss: 0.6823\n",
            "Epoch 10/100\n",
            "----------\n",
            "Train Loss: 0.6707\n",
            "Epoch 11/100\n",
            "----------\n",
            "Train Loss: 0.6649\n",
            "Epoch 12/100\n",
            "----------\n",
            "Train Loss: 0.6639\n",
            "Epoch 13/100\n",
            "----------\n",
            "Train Loss: 0.6629\n",
            "Epoch 14/100\n",
            "----------\n",
            "Train Loss: 0.6619\n",
            "Epoch 15/100\n",
            "----------\n",
            "Train Loss: 0.6609\n",
            "Epoch 16/100\n",
            "----------\n",
            "Train Loss: 0.6600\n",
            "Epoch 17/100\n",
            "----------\n",
            "Train Loss: 0.6590\n",
            "Epoch 18/100\n",
            "----------\n",
            "Train Loss: 0.6581\n",
            "Epoch 19/100\n",
            "----------\n",
            "Train Loss: 0.6571\n",
            "Epoch 20/100\n",
            "----------\n",
            "Train Loss: 0.6562\n",
            "Epoch 21/100\n",
            "----------\n",
            "Train Loss: 0.6557\n",
            "Epoch 22/100\n",
            "----------\n",
            "Train Loss: 0.6556\n",
            "Epoch 23/100\n",
            "----------\n",
            "Train Loss: 0.6555\n",
            "Epoch 24/100\n",
            "----------\n",
            "Train Loss: 0.6554\n",
            "Epoch 25/100\n",
            "----------\n",
            "Train Loss: 0.6553\n",
            "Epoch 26/100\n",
            "----------\n",
            "Train Loss: 0.6552\n",
            "Epoch 27/100\n",
            "----------\n",
            "Train Loss: 0.6551\n",
            "Epoch 28/100\n",
            "----------\n",
            "Train Loss: 0.6550\n",
            "Epoch 29/100\n",
            "----------\n",
            "Train Loss: 0.6550\n",
            "Epoch 30/100\n",
            "----------\n",
            "Train Loss: 0.6549\n",
            "Epoch 31/100\n",
            "----------\n",
            "Train Loss: 0.6548\n",
            "Epoch 32/100\n",
            "----------\n",
            "Train Loss: 0.6548\n",
            "Epoch 33/100\n",
            "----------\n",
            "Train Loss: 0.6548\n",
            "Epoch 34/100\n",
            "----------\n",
            "Train Loss: 0.6548\n",
            "Epoch 35/100\n",
            "----------\n",
            "Train Loss: 0.6548\n",
            "Epoch 36/100\n",
            "----------\n",
            "Train Loss: 0.6548\n",
            "Epoch 37/100\n",
            "----------\n",
            "Train Loss: 0.6548\n",
            "Epoch 38/100\n",
            "----------\n",
            "Train Loss: 0.6547\n",
            "Epoch 39/100\n",
            "----------\n",
            "Train Loss: 0.6547\n",
            "Epoch 40/100\n",
            "----------\n",
            "Train Loss: 0.6547\n",
            "Epoch 41/100\n",
            "----------\n",
            "Train Loss: 0.6547\n",
            "Epoch 42/100\n",
            "----------\n",
            "Train Loss: 0.6547\n",
            "Epoch 43/100\n",
            "----------\n",
            "Train Loss: 0.6547\n",
            "Epoch 44/100\n",
            "----------\n",
            "Train Loss: 0.6547\n",
            "Epoch 45/100\n",
            "----------\n",
            "Train Loss: 0.6547\n",
            "Epoch 46/100\n",
            "----------\n",
            "Train Loss: 0.6547\n",
            "Epoch 47/100\n",
            "----------\n",
            "Train Loss: 0.6547\n",
            "Epoch 48/100\n",
            "----------\n",
            "Train Loss: 0.6547\n",
            "Epoch 49/100\n",
            "----------\n",
            "Train Loss: 0.6547\n",
            "Epoch 50/100\n",
            "----------\n",
            "Train Loss: 0.6547\n",
            "Epoch 51/100\n",
            "----------\n",
            "Train Loss: 0.6547\n",
            "Epoch 52/100\n",
            "----------\n",
            "Train Loss: 0.6547\n",
            "Epoch 53/100\n",
            "----------\n",
            "Train Loss: 0.6547\n",
            "Epoch 54/100\n",
            "----------\n",
            "Train Loss: 0.6547\n",
            "Epoch 55/100\n",
            "----------\n",
            "Train Loss: 0.6547\n",
            "Epoch 56/100\n",
            "----------\n",
            "Train Loss: 0.6547\n",
            "Epoch 57/100\n",
            "----------\n",
            "Train Loss: 0.6547\n",
            "Epoch 58/100\n",
            "----------\n",
            "Train Loss: 0.6547\n",
            "Epoch 59/100\n",
            "----------\n",
            "Train Loss: 0.6547\n",
            "Epoch 60/100\n",
            "----------\n",
            "Train Loss: 0.6547\n",
            "Epoch 61/100\n",
            "----------\n",
            "Train Loss: 0.6547\n",
            "Epoch 62/100\n",
            "----------\n",
            "Train Loss: 0.6547\n",
            "Epoch 63/100\n",
            "----------\n",
            "Train Loss: 0.6547\n",
            "Epoch 64/100\n",
            "----------\n",
            "Train Loss: 0.6547\n",
            "Epoch 65/100\n",
            "----------\n",
            "Train Loss: 0.6547\n",
            "Epoch 66/100\n",
            "----------\n",
            "Train Loss: 0.6547\n",
            "Epoch 67/100\n",
            "----------\n",
            "Train Loss: 0.6547\n",
            "Epoch 68/100\n",
            "----------\n",
            "Train Loss: 0.6547\n",
            "Epoch 69/100\n",
            "----------\n",
            "Train Loss: 0.6547\n",
            "Epoch 70/100\n",
            "----------\n",
            "Train Loss: 0.6547\n",
            "Epoch 71/100\n",
            "----------\n",
            "Train Loss: 0.6547\n",
            "Epoch 72/100\n",
            "----------\n",
            "Train Loss: 0.6547\n",
            "Epoch 73/100\n",
            "----------\n",
            "Train Loss: 0.6547\n",
            "Epoch 74/100\n",
            "----------\n",
            "Train Loss: 0.6547\n",
            "Epoch 75/100\n",
            "----------\n",
            "Train Loss: 0.6547\n",
            "Epoch 76/100\n",
            "----------\n",
            "Train Loss: 0.6547\n",
            "Epoch 77/100\n",
            "----------\n",
            "Train Loss: 0.6547\n",
            "Epoch 78/100\n",
            "----------\n",
            "Train Loss: 0.6547\n",
            "Epoch 79/100\n",
            "----------\n",
            "Train Loss: 0.6547\n",
            "Epoch 80/100\n",
            "----------\n",
            "Train Loss: 0.6547\n",
            "Epoch 81/100\n",
            "----------\n",
            "Train Loss: 0.6547\n",
            "Epoch 82/100\n",
            "----------\n",
            "Train Loss: 0.6547\n",
            "Epoch 83/100\n",
            "----------\n",
            "Train Loss: 0.6547\n",
            "Epoch 84/100\n",
            "----------\n",
            "Train Loss: 0.6547\n",
            "Epoch 85/100\n",
            "----------\n",
            "Train Loss: 0.6547\n",
            "Epoch 86/100\n",
            "----------\n",
            "Train Loss: 0.6547\n",
            "Epoch 87/100\n",
            "----------\n",
            "Train Loss: 0.6547\n",
            "Epoch 88/100\n",
            "----------\n",
            "Train Loss: 0.6547\n",
            "Epoch 89/100\n",
            "----------\n",
            "Train Loss: 0.6547\n",
            "Epoch 90/100\n",
            "----------\n",
            "Train Loss: 0.6547\n",
            "Epoch 91/100\n",
            "----------\n",
            "Train Loss: 0.6547\n",
            "Epoch 92/100\n",
            "----------\n",
            "Train Loss: 0.6547\n",
            "Epoch 93/100\n",
            "----------\n",
            "Train Loss: 0.6547\n",
            "Epoch 94/100\n",
            "----------\n",
            "Train Loss: 0.6547\n",
            "Epoch 95/100\n",
            "----------\n",
            "Train Loss: 0.6547\n",
            "Epoch 96/100\n",
            "----------\n",
            "Train Loss: 0.6547\n",
            "Epoch 97/100\n",
            "----------\n",
            "Train Loss: 0.6547\n",
            "Epoch 98/100\n",
            "----------\n",
            "Train Loss: 0.6547\n",
            "Epoch 99/100\n",
            "----------\n",
            "Train Loss: 0.6547\n",
            "Epoch 100/100\n",
            "----------\n",
            "Train Loss: 0.6547\n",
            "Best Train Acc: 0.7422\n"
          ]
        }
      ],
      "source": [
        "# Set up optimizer and scheduler\n",
        "optimizer = optim.AdamW([\n",
        "    {'params': gp_model.parameters(), 'lr': lr},\n",
        "    {'params': likelihood.parameters(), 'lr': lr}\n",
        "], weight_decay=1e-2)  # You can adjust the weight decay value as needed\n",
        "\n",
        "scheduler = optim.lr_scheduler.StepLR(optimizer, step_size=10, gamma=0.1)\n",
        "\n",
        "# Train the model\n",
        "gp_model, likelihood = train_model(clip_model, gp_model, likelihood, optimizer, scheduler, num_epochs=epoch_num,\n",
        "                                   X_train=X_train, y_train=y_train)"
      ]
    },
    {
      "cell_type": "code",
      "execution_count": null,
      "id": "TWyjscBzR69A",
      "metadata": {
        "colab": {
          "background_save": true
        },
        "id": "TWyjscBzR69A",
        "outputId": "feead970-98be-44b5-a1db-38f21b43260e"
      },
      "outputs": [
        {
          "name": "stdout",
          "output_type": "stream",
          "text": [
            "Test Accuracy: 0.7422\n"
          ]
        }
      ],
      "source": [
        "# Evaluate the model\n",
        "predictions, true_labels, uncertainties, probs = evaluate_model(gp_model, likelihood, X_train, y_train)"
      ]
    },
    {
      "cell_type": "markdown",
      "id": "3JJXT2w7QeoR",
      "metadata": {
        "id": "3JJXT2w7QeoR"
      },
      "source": [
        "## Visualization\n",
        "\n",
        "Finally, let's visualize our results:"
      ]
    },
    {
      "cell_type": "code",
      "execution_count": null,
      "id": "hHlmeEdtQeoR",
      "metadata": {
        "colab": {
          "background_save": true
        },
        "id": "hHlmeEdtQeoR",
        "outputId": "3d8b33df-e22f-47b6-b2c4-2b7327ba8451"
      },
      "outputs": [
        {
          "data": {
            "image/png": "[encoded data removed]",
            "text/plain": [
              "<Figure size 1000x800 with 2 Axes>"
            ]
          },
          "metadata": {},
          "output_type": "display_data"
        }
      ],
      "source": [
        "# Plot confusion matrix\n",
        "cm = confusion_matrix(true_labels, predictions)\n",
        "plt.figure(figsize=(10, 8))\n",
        "sns.heatmap(cm, annot=True, fmt='d', cmap='Blues')\n",
        "plt.title('Confusion Matrix')\n",
        "plt.xlabel('Predicted')\n",
        "plt.ylabel('True')\n",
        "plt.show()"
      ]
    },
    {
      "cell_type": "code",
      "execution_count": null,
      "id": "JiTsbKlDTHuq",
      "metadata": {
        "colab": {
          "background_save": true
        },
        "id": "JiTsbKlDTHuq",
        "outputId": "70f3c8b4-86f0-43ef-9beb-6bf93171c062"
      },
      "outputs": [
        {
          "data": {
            "image/png": "[encoded data removed]",
            "text/plain": [
              "<Figure size 1000x600 with 1 Axes>"
            ]
          },
          "metadata": {},
          "output_type": "display_data"
        }
      ],
      "source": [
        "# Plot uncertainty distribution\n",
        "plt.figure(figsize=(10, 6))\n",
        "plt.hist(uncertainties, bins=100)\n",
        "plt.title('Distribution of Prediction Uncertainties')\n",
        "plt.xlabel('Uncertainty (Entropy)')\n",
        "plt.ylabel('Count')\n",
        "plt.show()"
      ]
    }
  ],
  "metadata": {
    "accelerator": "GPU",
    "colab": {
      "gpuType": "A100",
      "machine_shape": "hm",
      "provenance": []
    },
    "kernelspec": {
      "display_name": "Python 3",
      "name": "python3"
    },
    "language_info": {
      "codemirror_mode": {
        "name": "ipython",
        "version": 3
      },
      "file_extension": ".py",
      "mimetype": "text/x-python",
      "name": "python",
      "nbconvert_exporter": "python",
      "pygments_lexer": "ipython3",
      "version": "3.9.13"
    }
  },
  "nbformat": 4,
  "nbformat_minor": 5
}