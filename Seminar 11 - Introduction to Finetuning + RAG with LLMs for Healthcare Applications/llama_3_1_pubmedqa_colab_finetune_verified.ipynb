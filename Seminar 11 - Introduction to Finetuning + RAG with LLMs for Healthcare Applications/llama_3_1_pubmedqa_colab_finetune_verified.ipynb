{
  "cells": [
    {
      "cell_type": "markdown",
      "metadata": {
        "id": "introduction"
      },
      "source": [
        "# Fine-tuning Llama 3.1 on PubMedQA Dataset (Local Use)\n",
        "\n",
        "This notebook demonstrates how to fine-tune the Llama 3.1 model on the PubMedQA dataset using the Unsloth library for efficient training, and how to use the model locally."
      ]
    },
    {
      "cell_type": "code",
      "execution_count": 1,
      "metadata": {
        "colab": {
          "base_uri": "https://localhost:8080/"
        },
        "id": "installations",
        "outputId": "2d0e8d8d-c2b2-474a-9142-45dbc6e28650"
      },
      "outputs": [
        {
          "name": "stdout",
          "output_type": "stream",
          "text": [
            "Requirement already satisfied: transformers in /home/dennist/miniconda3/envs/monai/lib/python3.12/site-packages (4.45.0.dev0)\n",
            "Requirement already satisfied: datasets in /home/dennist/miniconda3/envs/monai/lib/python3.12/site-packages (2.21.0)\n",
            "Requirement already satisfied: peft in /home/dennist/miniconda3/envs/monai/lib/python3.12/site-packages (0.13.2)\n",
            "Requirement already satisfied: trl in /home/dennist/miniconda3/envs/monai/lib/python3.12/site-packages (0.11.4)\n",
            "Requirement already satisfied: accelerate in /home/dennist/miniconda3/envs/monai/lib/python3.12/site-packages (1.0.1)\n",
            "Requirement already satisfied: bitsandbytes in /home/dennist/miniconda3/envs/monai/lib/python3.12/site-packages (0.44.1)\n",
            "Requirement already satisfied: filelock in /home/dennist/miniconda3/envs/monai/lib/python3.12/site-packages (from transformers) (3.13.1)\n",
            "Requirement already satisfied: huggingface-hub<1.0,>=0.23.2 in /home/dennist/miniconda3/envs/monai/lib/python3.12/site-packages (from transformers) (0.24.6)\n",
            "Requirement already satisfied: numpy>=1.17 in /home/dennist/miniconda3/envs/monai/lib/python3.12/site-packages (from transformers) (1.26.4)\n",
            "Requirement already satisfied: packaging>=20.0 in /home/dennist/miniconda3/envs/monai/lib/python3.12/site-packages (from transformers) (24.0)\n",
            "Requirement already satisfied: pyyaml>=5.1 in /home/dennist/miniconda3/envs/monai/lib/python3.12/site-packages (from transformers) (6.0.2)\n",
            "Requirement already satisfied: regex!=2019.12.17 in /home/dennist/miniconda3/envs/monai/lib/python3.12/site-packages (from transformers) (2024.7.24)\n",
            "Requirement already satisfied: requests in /home/dennist/miniconda3/envs/monai/lib/python3.12/site-packages (from transformers) (2.32.3)\n",
            "Requirement already satisfied: tokenizers<0.20,>=0.19 in /home/dennist/miniconda3/envs/monai/lib/python3.12/site-packages (from transformers) (0.19.1)\n",
            "Requirement already satisfied: safetensors>=0.4.1 in /home/dennist/miniconda3/envs/monai/lib/python3.12/site-packages (from transformers) (0.4.4)\n",
            "Requirement already satisfied: tqdm>=4.27 in /home/dennist/miniconda3/envs/monai/lib/python3.12/site-packages (from transformers) (4.66.5)\n",
            "Requirement already satisfied: pyarrow>=15.0.0 in /home/dennist/miniconda3/envs/monai/lib/python3.12/site-packages (from datasets) (17.0.0)\n",
            "Requirement already satisfied: dill<0.3.9,>=0.3.0 in /home/dennist/miniconda3/envs/monai/lib/python3.12/site-packages (from datasets) (0.3.8)\n",
            "Requirement already satisfied: pandas in /home/dennist/miniconda3/envs/monai/lib/python3.12/site-packages (from datasets) (2.2.2)\n",
            "Requirement already satisfied: xxhash in /home/dennist/miniconda3/envs/monai/lib/python3.12/site-packages (from datasets) (3.5.0)\n",
            "Requirement already satisfied: multiprocess in /home/dennist/miniconda3/envs/monai/lib/python3.12/site-packages (from datasets) (0.70.16)\n",
            "Requirement already satisfied: fsspec<=2024.6.1,>=2023.1.0 in /home/dennist/miniconda3/envs/monai/lib/python3.12/site-packages (from fsspec[http]<=2024.6.1,>=2023.1.0->datasets) (2024.3.0)\n",
            "Requirement already satisfied: aiohttp in /home/dennist/miniconda3/envs/monai/lib/python3.12/site-packages (from datasets) (3.10.5)\n",
            "Requirement already satisfied: psutil in /home/dennist/miniconda3/envs/monai/lib/python3.12/site-packages (from peft) (6.0.0)\n",
            "Requirement already satisfied: torch>=1.13.0 in /home/dennist/miniconda3/envs/monai/lib/python3.12/site-packages (from peft) (2.4.0)\n",
            "Requirement already satisfied: tyro>=0.5.11 in /home/dennist/miniconda3/envs/monai/lib/python3.12/site-packages (from trl) (0.8.12)\n",
            "Requirement already satisfied: aiohappyeyeballs>=2.3.0 in /home/dennist/miniconda3/envs/monai/lib/python3.12/site-packages (from aiohttp->datasets) (2.4.0)\n",
            "Requirement already satisfied: aiosignal>=1.1.2 in /home/dennist/miniconda3/envs/monai/lib/python3.12/site-packages (from aiohttp->datasets) (1.3.1)\n",
            "Requirement already satisfied: attrs>=17.3.0 in /home/dennist/miniconda3/envs/monai/lib/python3.12/site-packages (from aiohttp->datasets) (24.2.0)\n",
            "Requirement already satisfied: frozenlist>=1.1.1 in /home/dennist/miniconda3/envs/monai/lib/python3.12/site-packages (from aiohttp->datasets) (1.4.1)\n",
            "Requirement already satisfied: multidict<7.0,>=4.5 in /home/dennist/miniconda3/envs/monai/lib/python3.12/site-packages (from aiohttp->datasets) (6.0.5)\n",
            "Requirement already satisfied: yarl<2.0,>=1.0 in /home/dennist/miniconda3/envs/monai/lib/python3.12/site-packages (from aiohttp->datasets) (1.9.4)\n",
            "Requirement already satisfied: typing-extensions>=3.7.4.3 in /home/dennist/miniconda3/envs/monai/lib/python3.12/site-packages (from huggingface-hub<1.0,>=0.23.2->transformers) (4.10.0)\n",
            "Requirement already satisfied: charset-normalizer<4,>=2 in /home/dennist/miniconda3/envs/monai/lib/python3.12/site-packages (from requests->transformers) (3.3.2)\n",
            "Requirement already satisfied: idna<4,>=2.5 in /home/dennist/miniconda3/envs/monai/lib/python3.12/site-packages (from requests->transformers) (3.6)\n",
            "Requirement already satisfied: urllib3<3,>=1.21.1 in /home/dennist/miniconda3/envs/monai/lib/python3.12/site-packages (from requests->transformers) (2.2.1)\n",
            "Requirement already satisfied: certifi>=2017.4.17 in /home/dennist/miniconda3/envs/monai/lib/python3.12/site-packages (from requests->transformers) (2024.2.2)\n",
            "Requirement already satisfied: sympy in /home/dennist/miniconda3/envs/monai/lib/python3.12/site-packages (from torch>=1.13.0->peft) (1.12)\n",
            "Requirement already satisfied: networkx in /home/dennist/miniconda3/envs/monai/lib/python3.12/site-packages (from torch>=1.13.0->peft) (3.2.1)\n",
            "Requirement already satisfied: jinja2 in /home/dennist/miniconda3/envs/monai/lib/python3.12/site-packages (from torch>=1.13.0->peft) (3.1.3)\n",
            "Requirement already satisfied: setuptools in /home/dennist/miniconda3/envs/monai/lib/python3.12/site-packages (from torch>=1.13.0->peft) (68.2.2)\n",
            "Requirement already satisfied: nvidia-cuda-nvrtc-cu12==12.1.105 in /home/dennist/miniconda3/envs/monai/lib/python3.12/site-packages (from torch>=1.13.0->peft) (12.1.105)\n",
            "Requirement already satisfied: nvidia-cuda-runtime-cu12==12.1.105 in /home/dennist/miniconda3/envs/monai/lib/python3.12/site-packages (from torch>=1.13.0->peft) (12.1.105)\n",
            "Requirement already satisfied: nvidia-cuda-cupti-cu12==12.1.105 in /home/dennist/miniconda3/envs/monai/lib/python3.12/site-packages (from torch>=1.13.0->peft) (12.1.105)\n",
            "Requirement already satisfied: nvidia-cudnn-cu12==9.1.0.70 in /home/dennist/miniconda3/envs/monai/lib/python3.12/site-packages (from torch>=1.13.0->peft) (9.1.0.70)\n",
            "Requirement already satisfied: nvidia-cublas-cu12==12.1.3.1 in /home/dennist/miniconda3/envs/monai/lib/python3.12/site-packages (from torch>=1.13.0->peft) (12.1.3.1)\n",
            "Requirement already satisfied: nvidia-cufft-cu12==11.0.2.54 in /home/dennist/miniconda3/envs/monai/lib/python3.12/site-packages (from torch>=1.13.0->peft) (11.0.2.54)\n",
            "Requirement already satisfied: nvidia-curand-cu12==10.3.2.106 in /home/dennist/miniconda3/envs/monai/lib/python3.12/site-packages (from torch>=1.13.0->peft) (10.3.2.106)\n",
            "Requirement already satisfied: nvidia-cusolver-cu12==11.4.5.107 in /home/dennist/miniconda3/envs/monai/lib/python3.12/site-packages (from torch>=1.13.0->peft) (11.4.5.107)\n",
            "Requirement already satisfied: nvidia-cusparse-cu12==12.1.0.106 in /home/dennist/miniconda3/envs/monai/lib/python3.12/site-packages (from torch>=1.13.0->peft) (12.1.0.106)\n",
            "Requirement already satisfied: nvidia-nccl-cu12==2.20.5 in /home/dennist/miniconda3/envs/monai/lib/python3.12/site-packages (from torch>=1.13.0->peft) (2.20.5)\n",
            "Requirement already satisfied: nvidia-nvtx-cu12==12.1.105 in /home/dennist/miniconda3/envs/monai/lib/python3.12/site-packages (from torch>=1.13.0->peft) (12.1.105)\n",
            "Requirement already satisfied: triton==3.0.0 in /home/dennist/miniconda3/envs/monai/lib/python3.12/site-packages (from torch>=1.13.0->peft) (3.0.0)\n",
            "Requirement already satisfied: nvidia-nvjitlink-cu12 in /home/dennist/miniconda3/envs/monai/lib/python3.12/site-packages (from nvidia-cusolver-cu12==11.4.5.107->torch>=1.13.0->peft) (12.4.99)\n",
            "Requirement already satisfied: docstring-parser>=0.16 in /home/dennist/miniconda3/envs/monai/lib/python3.12/site-packages (from tyro>=0.5.11->trl) (0.16)\n",
            "Requirement already satisfied: rich>=11.1.0 in /home/dennist/miniconda3/envs/monai/lib/python3.12/site-packages (from tyro>=0.5.11->trl) (13.9.2)\n",
            "Requirement already satisfied: shtab>=1.5.6 in /home/dennist/miniconda3/envs/monai/lib/python3.12/site-packages (from tyro>=0.5.11->trl) (1.7.1)\n",
            "Requirement already satisfied: python-dateutil>=2.8.2 in /home/dennist/miniconda3/envs/monai/lib/python3.12/site-packages (from pandas->datasets) (2.9.0.post0)\n",
            "Requirement already satisfied: pytz>=2020.1 in /home/dennist/miniconda3/envs/monai/lib/python3.12/site-packages (from pandas->datasets) (2024.1)\n",
            "Requirement already satisfied: tzdata>=2022.7 in /home/dennist/miniconda3/envs/monai/lib/python3.12/site-packages (from pandas->datasets) (2024.1)\n",
            "Requirement already satisfied: six>=1.5 in /home/dennist/miniconda3/envs/monai/lib/python3.12/site-packages (from python-dateutil>=2.8.2->pandas->datasets) (1.16.0)\n",
            "Requirement already satisfied: markdown-it-py>=2.2.0 in /home/dennist/miniconda3/envs/monai/lib/python3.12/site-packages (from rich>=11.1.0->tyro>=0.5.11->trl) (3.0.0)\n",
            "Requirement already satisfied: pygments<3.0.0,>=2.13.0 in /home/dennist/miniconda3/envs/monai/lib/python3.12/site-packages (from rich>=11.1.0->tyro>=0.5.11->trl) (2.18.0)\n",
            "Requirement already satisfied: MarkupSafe>=2.0 in /home/dennist/miniconda3/envs/monai/lib/python3.12/site-packages (from jinja2->torch>=1.13.0->peft) (2.1.5)\n",
            "Requirement already satisfied: mpmath>=0.19 in /home/dennist/miniconda3/envs/monai/lib/python3.12/site-packages (from sympy->torch>=1.13.0->peft) (1.3.0)\n",
            "Requirement already satisfied: mdurl~=0.1 in /home/dennist/miniconda3/envs/monai/lib/python3.12/site-packages (from markdown-it-py>=2.2.0->rich>=11.1.0->tyro>=0.5.11->trl) (0.1.2)\n",
            "Collecting unsloth[colab-new]@ git+https://github.com/unslothai/unsloth.git\n",
            "  Cloning https://github.com/unslothai/unsloth.git to /tmp/pip-install-8zimv2jq/unsloth_6eb767774c7f4bc8ab35b14fa11b346b\n",
            "  Running command git clone --filter=blob:none --quiet https://github.com/unslothai/unsloth.git /tmp/pip-install-8zimv2jq/unsloth_6eb767774c7f4bc8ab35b14fa11b346b\n",
            "  Resolved https://github.com/unslothai/unsloth.git to commit 38663b01f5dd0e610b12475bd95b144303cff539\n",
            "  Installing build dependencies ... \u001b[?25ldone\n",
            "\u001b[?25h  Getting requirements to build wheel ... \u001b[?25ldone\n",
            "\u001b[?25h  Preparing metadata (pyproject.toml) ... \u001b[?25ldone\n",
            "\u001b[?25hCollecting unsloth-zoo (from unsloth[colab-new]@ git+https://github.com/unslothai/unsloth.git)\n",
            "  Downloading unsloth_zoo-2024.10.1-py3-none-any.whl.metadata (48 kB)\n",
            "\u001b[2K     \u001b[90m━━━━━━━━━━━━━━━━━━━━━━━━━━━━━━━━━━━━━━━\u001b[0m \u001b[32m48.2/48.2 kB\u001b[0m \u001b[31m583.4 kB/s\u001b[0m eta \u001b[36m0:00:00\u001b[0m \u001b[36m0:00:01\u001b[0m\n",
            "\u001b[?25hRequirement already satisfied: packaging in /home/dennist/miniconda3/envs/monai/lib/python3.12/site-packages (from unsloth[colab-new]@ git+https://github.com/unslothai/unsloth.git) (24.0)\n",
            "Requirement already satisfied: tyro in /home/dennist/miniconda3/envs/monai/lib/python3.12/site-packages (from unsloth[colab-new]@ git+https://github.com/unslothai/unsloth.git) (0.8.12)\n",
            "Requirement already satisfied: transformers>=4.44.2 in /home/dennist/miniconda3/envs/monai/lib/python3.12/site-packages (from unsloth[colab-new]@ git+https://github.com/unslothai/unsloth.git) (4.45.0.dev0)\n",
            "Requirement already satisfied: datasets>=2.16.0 in /home/dennist/miniconda3/envs/monai/lib/python3.12/site-packages (from unsloth[colab-new]@ git+https://github.com/unslothai/unsloth.git) (2.21.0)\n",
            "Collecting sentencepiece>=0.2.0 (from unsloth[colab-new]@ git+https://github.com/unslothai/unsloth.git)\n",
            "  Using cached sentencepiece-0.2.0-cp312-cp312-manylinux_2_17_x86_64.manylinux2014_x86_64.whl.metadata (7.7 kB)\n",
            "Requirement already satisfied: tqdm in /home/dennist/miniconda3/envs/monai/lib/python3.12/site-packages (from unsloth[colab-new]@ git+https://github.com/unslothai/unsloth.git) (4.66.5)\n",
            "Requirement already satisfied: psutil in /home/dennist/miniconda3/envs/monai/lib/python3.12/site-packages (from unsloth[colab-new]@ git+https://github.com/unslothai/unsloth.git) (6.0.0)\n",
            "Collecting wheel>=0.42.0 (from unsloth[colab-new]@ git+https://github.com/unslothai/unsloth.git)\n",
            "  Using cached wheel-0.44.0-py3-none-any.whl.metadata (2.3 kB)\n",
            "Requirement already satisfied: numpy in /home/dennist/miniconda3/envs/monai/lib/python3.12/site-packages (from unsloth[colab-new]@ git+https://github.com/unslothai/unsloth.git) (1.26.4)\n",
            "Collecting protobuf<4.0.0 (from unsloth[colab-new]@ git+https://github.com/unslothai/unsloth.git)\n",
            "  Downloading protobuf-3.20.3-py2.py3-none-any.whl.metadata (720 bytes)\n",
            "Requirement already satisfied: huggingface-hub in /home/dennist/miniconda3/envs/monai/lib/python3.12/site-packages (from unsloth[colab-new]@ git+https://github.com/unslothai/unsloth.git) (0.24.6)\n",
            "Collecting hf-transfer (from unsloth[colab-new]@ git+https://github.com/unslothai/unsloth.git)\n",
            "  Downloading hf_transfer-0.1.8-cp312-cp312-manylinux_2_17_x86_64.manylinux2014_x86_64.whl.metadata (1.7 kB)\n",
            "Requirement already satisfied: filelock in /home/dennist/miniconda3/envs/monai/lib/python3.12/site-packages (from datasets>=2.16.0->unsloth[colab-new]@ git+https://github.com/unslothai/unsloth.git) (3.13.1)\n",
            "Requirement already satisfied: pyarrow>=15.0.0 in /home/dennist/miniconda3/envs/monai/lib/python3.12/site-packages (from datasets>=2.16.0->unsloth[colab-new]@ git+https://github.com/unslothai/unsloth.git) (17.0.0)\n",
            "Requirement already satisfied: dill<0.3.9,>=0.3.0 in /home/dennist/miniconda3/envs/monai/lib/python3.12/site-packages (from datasets>=2.16.0->unsloth[colab-new]@ git+https://github.com/unslothai/unsloth.git) (0.3.8)\n",
            "Requirement already satisfied: pandas in /home/dennist/miniconda3/envs/monai/lib/python3.12/site-packages (from datasets>=2.16.0->unsloth[colab-new]@ git+https://github.com/unslothai/unsloth.git) (2.2.2)\n",
            "Requirement already satisfied: requests>=2.32.2 in /home/dennist/miniconda3/envs/monai/lib/python3.12/site-packages (from datasets>=2.16.0->unsloth[colab-new]@ git+https://github.com/unslothai/unsloth.git) (2.32.3)\n",
            "Requirement already satisfied: xxhash in /home/dennist/miniconda3/envs/monai/lib/python3.12/site-packages (from datasets>=2.16.0->unsloth[colab-new]@ git+https://github.com/unslothai/unsloth.git) (3.5.0)\n",
            "Requirement already satisfied: multiprocess in /home/dennist/miniconda3/envs/monai/lib/python3.12/site-packages (from datasets>=2.16.0->unsloth[colab-new]@ git+https://github.com/unslothai/unsloth.git) (0.70.16)\n",
            "Requirement already satisfied: fsspec<=2024.6.1,>=2023.1.0 in /home/dennist/miniconda3/envs/monai/lib/python3.12/site-packages (from fsspec[http]<=2024.6.1,>=2023.1.0->datasets>=2.16.0->unsloth[colab-new]@ git+https://github.com/unslothai/unsloth.git) (2024.3.0)\n",
            "Requirement already satisfied: aiohttp in /home/dennist/miniconda3/envs/monai/lib/python3.12/site-packages (from datasets>=2.16.0->unsloth[colab-new]@ git+https://github.com/unslothai/unsloth.git) (3.10.5)\n",
            "Requirement already satisfied: pyyaml>=5.1 in /home/dennist/miniconda3/envs/monai/lib/python3.12/site-packages (from datasets>=2.16.0->unsloth[colab-new]@ git+https://github.com/unslothai/unsloth.git) (6.0.2)\n",
            "Requirement already satisfied: typing-extensions>=3.7.4.3 in /home/dennist/miniconda3/envs/monai/lib/python3.12/site-packages (from huggingface-hub->unsloth[colab-new]@ git+https://github.com/unslothai/unsloth.git) (4.10.0)\n",
            "Requirement already satisfied: regex!=2019.12.17 in /home/dennist/miniconda3/envs/monai/lib/python3.12/site-packages (from transformers>=4.44.2->unsloth[colab-new]@ git+https://github.com/unslothai/unsloth.git) (2024.7.24)\n",
            "Requirement already satisfied: tokenizers<0.20,>=0.19 in /home/dennist/miniconda3/envs/monai/lib/python3.12/site-packages (from transformers>=4.44.2->unsloth[colab-new]@ git+https://github.com/unslothai/unsloth.git) (0.19.1)\n",
            "Requirement already satisfied: safetensors>=0.4.1 in /home/dennist/miniconda3/envs/monai/lib/python3.12/site-packages (from transformers>=4.44.2->unsloth[colab-new]@ git+https://github.com/unslothai/unsloth.git) (0.4.4)\n",
            "Requirement already satisfied: docstring-parser>=0.16 in /home/dennist/miniconda3/envs/monai/lib/python3.12/site-packages (from tyro->unsloth[colab-new]@ git+https://github.com/unslothai/unsloth.git) (0.16)\n",
            "Requirement already satisfied: rich>=11.1.0 in /home/dennist/miniconda3/envs/monai/lib/python3.12/site-packages (from tyro->unsloth[colab-new]@ git+https://github.com/unslothai/unsloth.git) (13.9.2)\n",
            "Requirement already satisfied: shtab>=1.5.6 in /home/dennist/miniconda3/envs/monai/lib/python3.12/site-packages (from tyro->unsloth[colab-new]@ git+https://github.com/unslothai/unsloth.git) (1.7.1)\n",
            "Requirement already satisfied: torch>=2.4.0 in /home/dennist/miniconda3/envs/monai/lib/python3.12/site-packages (from unsloth-zoo->unsloth[colab-new]@ git+https://github.com/unslothai/unsloth.git) (2.4.0)\n",
            "Requirement already satisfied: triton>=3.0.0 in /home/dennist/miniconda3/envs/monai/lib/python3.12/site-packages (from unsloth-zoo->unsloth[colab-new]@ git+https://github.com/unslothai/unsloth.git) (3.0.0)\n",
            "Collecting transformers>=4.44.2 (from unsloth[colab-new]@ git+https://github.com/unslothai/unsloth.git)\n",
            "  Downloading transformers-4.44.2-py3-none-any.whl.metadata (43 kB)\n",
            "\u001b[2K     \u001b[90m━━━━━━━━━━━━━━━━━━━━━━━━━━━━━━━━━━━━━━━\u001b[0m \u001b[32m43.7/43.7 kB\u001b[0m \u001b[31m970.4 kB/s\u001b[0m eta \u001b[36m0:00:00\u001b[0m \u001b[36m0:00:01\u001b[0m\n",
            "\u001b[?25hRequirement already satisfied: accelerate>=0.34.1 in /home/dennist/miniconda3/envs/monai/lib/python3.12/site-packages (from unsloth-zoo->unsloth[colab-new]@ git+https://github.com/unslothai/unsloth.git) (1.0.1)\n",
            "Collecting trl!=0.9.0,!=0.9.1,!=0.9.2,!=0.9.3,<=0.11.1,>=0.7.9 (from unsloth-zoo->unsloth[colab-new]@ git+https://github.com/unslothai/unsloth.git)\n",
            "  Downloading trl-0.11.1-py3-none-any.whl.metadata (12 kB)\n",
            "Requirement already satisfied: peft!=0.11.0,>=0.7.1 in /home/dennist/miniconda3/envs/monai/lib/python3.12/site-packages (from unsloth-zoo->unsloth[colab-new]@ git+https://github.com/unslothai/unsloth.git) (0.13.2)\n",
            "Requirement already satisfied: aiohappyeyeballs>=2.3.0 in /home/dennist/miniconda3/envs/monai/lib/python3.12/site-packages (from aiohttp->datasets>=2.16.0->unsloth[colab-new]@ git+https://github.com/unslothai/unsloth.git) (2.4.0)\n",
            "Requirement already satisfied: aiosignal>=1.1.2 in /home/dennist/miniconda3/envs/monai/lib/python3.12/site-packages (from aiohttp->datasets>=2.16.0->unsloth[colab-new]@ git+https://github.com/unslothai/unsloth.git) (1.3.1)\n",
            "Requirement already satisfied: attrs>=17.3.0 in /home/dennist/miniconda3/envs/monai/lib/python3.12/site-packages (from aiohttp->datasets>=2.16.0->unsloth[colab-new]@ git+https://github.com/unslothai/unsloth.git) (24.2.0)\n",
            "Requirement already satisfied: frozenlist>=1.1.1 in /home/dennist/miniconda3/envs/monai/lib/python3.12/site-packages (from aiohttp->datasets>=2.16.0->unsloth[colab-new]@ git+https://github.com/unslothai/unsloth.git) (1.4.1)\n",
            "Requirement already satisfied: multidict<7.0,>=4.5 in /home/dennist/miniconda3/envs/monai/lib/python3.12/site-packages (from aiohttp->datasets>=2.16.0->unsloth[colab-new]@ git+https://github.com/unslothai/unsloth.git) (6.0.5)\n",
            "Requirement already satisfied: yarl<2.0,>=1.0 in /home/dennist/miniconda3/envs/monai/lib/python3.12/site-packages (from aiohttp->datasets>=2.16.0->unsloth[colab-new]@ git+https://github.com/unslothai/unsloth.git) (1.9.4)\n",
            "Requirement already satisfied: charset-normalizer<4,>=2 in /home/dennist/miniconda3/envs/monai/lib/python3.12/site-packages (from requests>=2.32.2->datasets>=2.16.0->unsloth[colab-new]@ git+https://github.com/unslothai/unsloth.git) (3.3.2)\n",
            "Requirement already satisfied: idna<4,>=2.5 in /home/dennist/miniconda3/envs/monai/lib/python3.12/site-packages (from requests>=2.32.2->datasets>=2.16.0->unsloth[colab-new]@ git+https://github.com/unslothai/unsloth.git) (3.6)\n",
            "Requirement already satisfied: urllib3<3,>=1.21.1 in /home/dennist/miniconda3/envs/monai/lib/python3.12/site-packages (from requests>=2.32.2->datasets>=2.16.0->unsloth[colab-new]@ git+https://github.com/unslothai/unsloth.git) (2.2.1)\n",
            "Requirement already satisfied: certifi>=2017.4.17 in /home/dennist/miniconda3/envs/monai/lib/python3.12/site-packages (from requests>=2.32.2->datasets>=2.16.0->unsloth[colab-new]@ git+https://github.com/unslothai/unsloth.git) (2024.2.2)\n",
            "Requirement already satisfied: markdown-it-py>=2.2.0 in /home/dennist/miniconda3/envs/monai/lib/python3.12/site-packages (from rich>=11.1.0->tyro->unsloth[colab-new]@ git+https://github.com/unslothai/unsloth.git) (3.0.0)\n",
            "Requirement already satisfied: pygments<3.0.0,>=2.13.0 in /home/dennist/miniconda3/envs/monai/lib/python3.12/site-packages (from rich>=11.1.0->tyro->unsloth[colab-new]@ git+https://github.com/unslothai/unsloth.git) (2.18.0)\n",
            "Requirement already satisfied: sympy in /home/dennist/miniconda3/envs/monai/lib/python3.12/site-packages (from torch>=2.4.0->unsloth-zoo->unsloth[colab-new]@ git+https://github.com/unslothai/unsloth.git) (1.12)\n",
            "Requirement already satisfied: networkx in /home/dennist/miniconda3/envs/monai/lib/python3.12/site-packages (from torch>=2.4.0->unsloth-zoo->unsloth[colab-new]@ git+https://github.com/unslothai/unsloth.git) (3.2.1)\n",
            "Requirement already satisfied: jinja2 in /home/dennist/miniconda3/envs/monai/lib/python3.12/site-packages (from torch>=2.4.0->unsloth-zoo->unsloth[colab-new]@ git+https://github.com/unslothai/unsloth.git) (3.1.3)\n",
            "Requirement already satisfied: setuptools in /home/dennist/miniconda3/envs/monai/lib/python3.12/site-packages (from torch>=2.4.0->unsloth-zoo->unsloth[colab-new]@ git+https://github.com/unslothai/unsloth.git) (68.2.2)\n",
            "Requirement already satisfied: nvidia-cuda-nvrtc-cu12==12.1.105 in /home/dennist/miniconda3/envs/monai/lib/python3.12/site-packages (from torch>=2.4.0->unsloth-zoo->unsloth[colab-new]@ git+https://github.com/unslothai/unsloth.git) (12.1.105)\n",
            "Requirement already satisfied: nvidia-cuda-runtime-cu12==12.1.105 in /home/dennist/miniconda3/envs/monai/lib/python3.12/site-packages (from torch>=2.4.0->unsloth-zoo->unsloth[colab-new]@ git+https://github.com/unslothai/unsloth.git) (12.1.105)\n",
            "Requirement already satisfied: nvidia-cuda-cupti-cu12==12.1.105 in /home/dennist/miniconda3/envs/monai/lib/python3.12/site-packages (from torch>=2.4.0->unsloth-zoo->unsloth[colab-new]@ git+https://github.com/unslothai/unsloth.git) (12.1.105)\n",
            "Requirement already satisfied: nvidia-cudnn-cu12==9.1.0.70 in /home/dennist/miniconda3/envs/monai/lib/python3.12/site-packages (from torch>=2.4.0->unsloth-zoo->unsloth[colab-new]@ git+https://github.com/unslothai/unsloth.git) (9.1.0.70)\n",
            "Requirement already satisfied: nvidia-cublas-cu12==12.1.3.1 in /home/dennist/miniconda3/envs/monai/lib/python3.12/site-packages (from torch>=2.4.0->unsloth-zoo->unsloth[colab-new]@ git+https://github.com/unslothai/unsloth.git) (12.1.3.1)\n",
            "Requirement already satisfied: nvidia-cufft-cu12==11.0.2.54 in /home/dennist/miniconda3/envs/monai/lib/python3.12/site-packages (from torch>=2.4.0->unsloth-zoo->unsloth[colab-new]@ git+https://github.com/unslothai/unsloth.git) (11.0.2.54)\n",
            "Requirement already satisfied: nvidia-curand-cu12==10.3.2.106 in /home/dennist/miniconda3/envs/monai/lib/python3.12/site-packages (from torch>=2.4.0->unsloth-zoo->unsloth[colab-new]@ git+https://github.com/unslothai/unsloth.git) (10.3.2.106)\n",
            "Requirement already satisfied: nvidia-cusolver-cu12==11.4.5.107 in /home/dennist/miniconda3/envs/monai/lib/python3.12/site-packages (from torch>=2.4.0->unsloth-zoo->unsloth[colab-new]@ git+https://github.com/unslothai/unsloth.git) (11.4.5.107)\n",
            "Requirement already satisfied: nvidia-cusparse-cu12==12.1.0.106 in /home/dennist/miniconda3/envs/monai/lib/python3.12/site-packages (from torch>=2.4.0->unsloth-zoo->unsloth[colab-new]@ git+https://github.com/unslothai/unsloth.git) (12.1.0.106)\n",
            "Requirement already satisfied: nvidia-nccl-cu12==2.20.5 in /home/dennist/miniconda3/envs/monai/lib/python3.12/site-packages (from torch>=2.4.0->unsloth-zoo->unsloth[colab-new]@ git+https://github.com/unslothai/unsloth.git) (2.20.5)\n",
            "Requirement already satisfied: nvidia-nvtx-cu12==12.1.105 in /home/dennist/miniconda3/envs/monai/lib/python3.12/site-packages (from torch>=2.4.0->unsloth-zoo->unsloth[colab-new]@ git+https://github.com/unslothai/unsloth.git) (12.1.105)\n",
            "Requirement already satisfied: nvidia-nvjitlink-cu12 in /home/dennist/miniconda3/envs/monai/lib/python3.12/site-packages (from nvidia-cusolver-cu12==11.4.5.107->torch>=2.4.0->unsloth-zoo->unsloth[colab-new]@ git+https://github.com/unslothai/unsloth.git) (12.4.99)\n",
            "Requirement already satisfied: python-dateutil>=2.8.2 in /home/dennist/miniconda3/envs/monai/lib/python3.12/site-packages (from pandas->datasets>=2.16.0->unsloth[colab-new]@ git+https://github.com/unslothai/unsloth.git) (2.9.0.post0)\n",
            "Requirement already satisfied: pytz>=2020.1 in /home/dennist/miniconda3/envs/monai/lib/python3.12/site-packages (from pandas->datasets>=2.16.0->unsloth[colab-new]@ git+https://github.com/unslothai/unsloth.git) (2024.1)\n",
            "Requirement already satisfied: tzdata>=2022.7 in /home/dennist/miniconda3/envs/monai/lib/python3.12/site-packages (from pandas->datasets>=2.16.0->unsloth[colab-new]@ git+https://github.com/unslothai/unsloth.git) (2024.1)\n",
            "Requirement already satisfied: mdurl~=0.1 in /home/dennist/miniconda3/envs/monai/lib/python3.12/site-packages (from markdown-it-py>=2.2.0->rich>=11.1.0->tyro->unsloth[colab-new]@ git+https://github.com/unslothai/unsloth.git) (0.1.2)\n",
            "Requirement already satisfied: six>=1.5 in /home/dennist/miniconda3/envs/monai/lib/python3.12/site-packages (from python-dateutil>=2.8.2->pandas->datasets>=2.16.0->unsloth[colab-new]@ git+https://github.com/unslothai/unsloth.git) (1.16.0)\n",
            "Requirement already satisfied: MarkupSafe>=2.0 in /home/dennist/miniconda3/envs/monai/lib/python3.12/site-packages (from jinja2->torch>=2.4.0->unsloth-zoo->unsloth[colab-new]@ git+https://github.com/unslothai/unsloth.git) (2.1.5)\n",
            "Requirement already satisfied: mpmath>=0.19 in /home/dennist/miniconda3/envs/monai/lib/python3.12/site-packages (from sympy->torch>=2.4.0->unsloth-zoo->unsloth[colab-new]@ git+https://github.com/unslothai/unsloth.git) (1.3.0)\n",
            "Downloading protobuf-3.20.3-py2.py3-none-any.whl (162 kB)\n",
            "\u001b[2K   \u001b[90m━━━━━━━━━━━━━━━━━━━━━━━━━━━━━━━━━━━━━━━━\u001b[0m \u001b[32m162.1/162.1 kB\u001b[0m \u001b[31m1.5 MB/s\u001b[0m eta \u001b[36m0:00:00\u001b[0ma \u001b[36m0:00:01\u001b[0m\n",
            "\u001b[?25hUsing cached sentencepiece-0.2.0-cp312-cp312-manylinux_2_17_x86_64.manylinux2014_x86_64.whl (1.3 MB)\n",
            "Using cached wheel-0.44.0-py3-none-any.whl (67 kB)\n",
            "Downloading hf_transfer-0.1.8-cp312-cp312-manylinux_2_17_x86_64.manylinux2014_x86_64.whl (3.6 MB)\n",
            "\u001b[2K   \u001b[90m━━━━━━━━━━━━━━━━━━━━━━━━━━━━━━━━━━━━━━━━\u001b[0m \u001b[32m3.6/3.6 MB\u001b[0m \u001b[31m18.7 MB/s\u001b[0m eta \u001b[36m0:00:00\u001b[0m00:01\u001b[0m00:01\u001b[0m\n",
            "\u001b[?25hDownloading unsloth_zoo-2024.10.1-py3-none-any.whl (39 kB)\n",
            "Downloading transformers-4.44.2-py3-none-any.whl (9.5 MB)\n",
            "\u001b[2K   \u001b[90m━━━━━━━━━━━━━━━━━━━━━━━━━━━━━━━━━━━━━━━━\u001b[0m \u001b[32m9.5/9.5 MB\u001b[0m \u001b[31m46.8 MB/s\u001b[0m eta \u001b[36m0:00:00\u001b[0m00:01\u001b[0m00:01\u001b[0m\n",
            "\u001b[?25hDownloading trl-0.11.1-py3-none-any.whl (318 kB)\n",
            "\u001b[2K   \u001b[90m━━━━━━━━━━━━━━━━━━━━━━━━━━━━━━━━━━━━━━━━\u001b[0m \u001b[32m318.4/318.4 kB\u001b[0m \u001b[31m25.2 MB/s\u001b[0m eta \u001b[36m0:00:00\u001b[0m\n",
            "\u001b[?25hBuilding wheels for collected packages: unsloth\n",
            "  Building wheel for unsloth (pyproject.toml) ... \u001b[?25ldone\n",
            "\u001b[?25h  Created wheel for unsloth: filename=unsloth-2024.10.0-py3-none-any.whl size=161147 sha256=1540326d4a726b21c59c4aed0e445b2e98aa947e22814ec466ea800d58a7429d\n",
            "  Stored in directory: /tmp/pip-ephem-wheel-cache-wbp772vs/wheels/60/3e/1f/e576c07051d90cf64b6a41434d87ccf4db33fafd5343bf5de0\n",
            "Successfully built unsloth\n",
            "Installing collected packages: sentencepiece, wheel, unsloth, protobuf, hf-transfer, transformers, trl, unsloth-zoo\n",
            "  Attempting uninstall: wheel\n",
            "    Found existing installation: wheel 0.41.2\n",
            "    Uninstalling wheel-0.41.2:\n",
            "      Successfully uninstalled wheel-0.41.2\n",
            "  Attempting uninstall: protobuf\n",
            "    Found existing installation: protobuf 5.28.1\n",
            "    Uninstalling protobuf-5.28.1:\n",
            "      Successfully uninstalled protobuf-5.28.1\n",
            "  Attempting uninstall: transformers\n",
            "    Found existing installation: transformers 4.45.0.dev0\n",
            "    Uninstalling transformers-4.45.0.dev0:\n",
            "      Successfully uninstalled transformers-4.45.0.dev0\n",
            "  Attempting uninstall: trl\n",
            "    Found existing installation: trl 0.11.4\n",
            "    Uninstalling trl-0.11.4:\n",
            "      Successfully uninstalled trl-0.11.4\n",
            "Successfully installed hf-transfer-0.1.8 protobuf-3.20.3 sentencepiece-0.2.0 transformers-4.44.2 trl-0.11.1 unsloth-2024.10.0 unsloth-zoo-2024.10.1 wheel-0.44.0\n",
            "Requirement already satisfied: triton in /home/dennist/miniconda3/envs/monai/lib/python3.12/site-packages (3.0.0)\n",
            "Requirement already satisfied: filelock in /home/dennist/miniconda3/envs/monai/lib/python3.12/site-packages (from triton) (3.13.1)\n",
            "Collecting xformers\n",
            "  Downloading xformers-0.0.28.post1-cp312-cp312-manylinux_2_28_x86_64.whl.metadata (1.0 kB)\n",
            "Requirement already satisfied: numpy in /home/dennist/miniconda3/envs/monai/lib/python3.12/site-packages (from xformers) (1.26.4)\n",
            "Collecting torch==2.4.1 (from xformers)\n",
            "  Using cached torch-2.4.1-cp312-cp312-manylinux1_x86_64.whl.metadata (26 kB)\n",
            "Requirement already satisfied: filelock in /home/dennist/miniconda3/envs/monai/lib/python3.12/site-packages (from torch==2.4.1->xformers) (3.13.1)\n",
            "Requirement already satisfied: typing-extensions>=4.8.0 in /home/dennist/miniconda3/envs/monai/lib/python3.12/site-packages (from torch==2.4.1->xformers) (4.10.0)\n",
            "Requirement already satisfied: sympy in /home/dennist/miniconda3/envs/monai/lib/python3.12/site-packages (from torch==2.4.1->xformers) (1.12)\n",
            "Requirement already satisfied: networkx in /home/dennist/miniconda3/envs/monai/lib/python3.12/site-packages (from torch==2.4.1->xformers) (3.2.1)\n",
            "Requirement already satisfied: jinja2 in /home/dennist/miniconda3/envs/monai/lib/python3.12/site-packages (from torch==2.4.1->xformers) (3.1.3)\n",
            "Requirement already satisfied: fsspec in /home/dennist/miniconda3/envs/monai/lib/python3.12/site-packages (from torch==2.4.1->xformers) (2024.3.0)\n",
            "Requirement already satisfied: setuptools in /home/dennist/miniconda3/envs/monai/lib/python3.12/site-packages (from torch==2.4.1->xformers) (68.2.2)\n",
            "Requirement already satisfied: nvidia-cuda-nvrtc-cu12==12.1.105 in /home/dennist/miniconda3/envs/monai/lib/python3.12/site-packages (from torch==2.4.1->xformers) (12.1.105)\n",
            "Requirement already satisfied: nvidia-cuda-runtime-cu12==12.1.105 in /home/dennist/miniconda3/envs/monai/lib/python3.12/site-packages (from torch==2.4.1->xformers) (12.1.105)\n",
            "Requirement already satisfied: nvidia-cuda-cupti-cu12==12.1.105 in /home/dennist/miniconda3/envs/monai/lib/python3.12/site-packages (from torch==2.4.1->xformers) (12.1.105)\n",
            "Requirement already satisfied: nvidia-cudnn-cu12==9.1.0.70 in /home/dennist/miniconda3/envs/monai/lib/python3.12/site-packages (from torch==2.4.1->xformers) (9.1.0.70)\n",
            "Requirement already satisfied: nvidia-cublas-cu12==12.1.3.1 in /home/dennist/miniconda3/envs/monai/lib/python3.12/site-packages (from torch==2.4.1->xformers) (12.1.3.1)\n",
            "Requirement already satisfied: nvidia-cufft-cu12==11.0.2.54 in /home/dennist/miniconda3/envs/monai/lib/python3.12/site-packages (from torch==2.4.1->xformers) (11.0.2.54)\n",
            "Requirement already satisfied: nvidia-curand-cu12==10.3.2.106 in /home/dennist/miniconda3/envs/monai/lib/python3.12/site-packages (from torch==2.4.1->xformers) (10.3.2.106)\n",
            "Requirement already satisfied: nvidia-cusolver-cu12==11.4.5.107 in /home/dennist/miniconda3/envs/monai/lib/python3.12/site-packages (from torch==2.4.1->xformers) (11.4.5.107)\n",
            "Requirement already satisfied: nvidia-cusparse-cu12==12.1.0.106 in /home/dennist/miniconda3/envs/monai/lib/python3.12/site-packages (from torch==2.4.1->xformers) (12.1.0.106)\n",
            "Requirement already satisfied: nvidia-nccl-cu12==2.20.5 in /home/dennist/miniconda3/envs/monai/lib/python3.12/site-packages (from torch==2.4.1->xformers) (2.20.5)\n",
            "Requirement already satisfied: nvidia-nvtx-cu12==12.1.105 in /home/dennist/miniconda3/envs/monai/lib/python3.12/site-packages (from torch==2.4.1->xformers) (12.1.105)\n",
            "Requirement already satisfied: triton==3.0.0 in /home/dennist/miniconda3/envs/monai/lib/python3.12/site-packages (from torch==2.4.1->xformers) (3.0.0)\n",
            "Requirement already satisfied: nvidia-nvjitlink-cu12 in /home/dennist/miniconda3/envs/monai/lib/python3.12/site-packages (from nvidia-cusolver-cu12==11.4.5.107->torch==2.4.1->xformers) (12.4.99)\n",
            "Requirement already satisfied: MarkupSafe>=2.0 in /home/dennist/miniconda3/envs/monai/lib/python3.12/site-packages (from jinja2->torch==2.4.1->xformers) (2.1.5)\n",
            "Requirement already satisfied: mpmath>=0.19 in /home/dennist/miniconda3/envs/monai/lib/python3.12/site-packages (from sympy->torch==2.4.1->xformers) (1.3.0)\n",
            "Downloading xformers-0.0.28.post1-cp312-cp312-manylinux_2_28_x86_64.whl (16.7 MB)\n",
            "\u001b[2K   \u001b[90m━━━━━━━━━━━━━━━━━━━━━━━━━━━━━━━━━━━━━━━━\u001b[0m \u001b[32m16.7/16.7 MB\u001b[0m \u001b[31m64.9 MB/s\u001b[0m eta \u001b[36m0:00:00\u001b[0m00:01\u001b[0m00:01\u001b[0m\n",
            "\u001b[?25hUsing cached torch-2.4.1-cp312-cp312-manylinux1_x86_64.whl (797.0 MB)\n",
            "Installing collected packages: torch, xformers\n",
            "  Attempting uninstall: torch\n",
            "    Found existing installation: torch 2.4.0\n",
            "    Uninstalling torch-2.4.0:\n",
            "      Successfully uninstalled torch-2.4.0\n",
            "\u001b[31mERROR: pip's dependency resolver does not currently take into account all the packages that are installed. This behaviour is the source of the following dependency conflicts.\n",
            "torchvision 0.19.0 requires torch==2.4.0, but you have torch 2.4.1 which is incompatible.\u001b[0m\u001b[31m\n",
            "\u001b[0mSuccessfully installed torch-2.4.1 xformers-0.0.28.post1\n",
            "🦥 Unsloth: Will patch your computer to enable 2x faster free finetuning.\n",
            "Using device: cuda\n",
            "GPU: NVIDIA A100-SXM4-80GB\n"
          ]
        }
      ],
      "source": [
        "# Install necessary libraries\n",
        "!pip install transformers datasets peft trl accelerate bitsandbytes\n",
        "!pip install \"unsloth[colab-new] @ git+https://github.com/unslothai/unsloth.git\"\n",
        "!pip install triton\n",
        "!pip install xformers\n",
        "\n",
        "# Import necessary libraries\n",
        "import torch\n",
        "from trl import SFTTrainer\n",
        "from datasets import load_dataset\n",
        "from transformers import TrainingArguments, TextStreamer\n",
        "from unsloth.chat_templates import get_chat_template\n",
        "from unsloth import FastLanguageModel, is_bfloat16_supported\n",
        "\n",
        "# Check for GPU\n",
        "device = torch.device(\"cuda\" if torch.cuda.is_available() else \"cpu\")\n",
        "print(f\"Using device: {device}\")\n",
        "if device.type == \"cuda\":\n",
        "    print(f\"GPU: {torch.cuda.get_device_name(0)}\")\n",
        "else:\n",
        "    print(\"GPU not found. Please make sure to enable GPU in the runtime settings.\")\n",
        "\n",
        "# Ensure we're using an A100 GPU for optimal performance\n",
        "if device.type == \"cuda\" and \"A100\" not in torch.cuda.get_device_name(0):\n",
        "    print(\"Warning: For optimal performance, it's recommended to use an A100 GPU instance.\")"
      ]
    },
    {
      "cell_type": "markdown",
      "metadata": {
        "id": "load_model_markdown"
      },
      "source": [
        "## Load and Prepare the Model"
      ]
    },
    {
      "cell_type": "code",
      "execution_count": 2,
      "metadata": {
        "colab": {
          "base_uri": "https://localhost:8080/",
          "height": 153,
          "referenced_widgets": [
            "9f7681a982b04fa1a082f782f6a5e5cd",
            "ebb3156053f749c4a26bff5eaf3d566f",
            "da66e02928624f049c007b155cd5427f",
            "e2be50e3c1644273b1d8c762c28a4b39",
            "8f42bfd4b90c4981b01a34a73432a164",
            "cd73946cf49c49b29ef7063df65117c5",
            "dfa578e2cce94e66807f635beb4d8bed",
            "bf4cff3c241a42a1bc85eb8fbc0da032",
            "e56d6e5e56f54041ae7247c8668d0be0",
            "838a03284378463680739d5aa7ebb452",
            "8df0d4d7d52c4303b348f3ba8175de97"
          ]
        },
        "id": "load_model",
        "outputId": "6d6c15b3-e1d9-493e-e593-c307bb4cf126"
      },
      "outputs": [
        {
          "name": "stdout",
          "output_type": "stream",
          "text": [
            "==((====))==  Unsloth 2024.10.0: Fast Llama patching. Transformers = 4.44.2.\n",
            "   \\\\   /|    GPU: NVIDIA A100-SXM4-80GB. Max memory: 79.254 GB. Platform = Linux.\n",
            "O^O/ \\_/ \\    Pytorch: 2.4.1+cu121. CUDA = 8.0. CUDA Toolkit = 12.1.\n",
            "\\        /    Bfloat16 = TRUE. FA [Xformers = 0.0.28.post1. FA2 = False]\n",
            " \"-____-\"     Free Apache license: http://github.com/unslothai/unsloth\n"
          ]
        },
        {
          "data": {
            "application/vnd.jupyter.widget-view+json": {
              "model_id": "8d86ed76e33748d485aa772638834ee8",
              "version_major": 2,
              "version_minor": 0
            },
            "text/plain": [
              "model.safetensors:   0%|          | 0.00/5.70G [00:00<?, ?B/s]"
            ]
          },
          "metadata": {},
          "output_type": "display_data"
        },
        {
          "data": {
            "application/vnd.jupyter.widget-view+json": {
              "model_id": "12104909158e4f60b67da59833044388",
              "version_major": 2,
              "version_minor": 0
            },
            "text/plain": [
              "generation_config.json:   0%|          | 0.00/230 [00:00<?, ?B/s]"
            ]
          },
          "metadata": {},
          "output_type": "display_data"
        },
        {
          "data": {
            "application/vnd.jupyter.widget-view+json": {
              "model_id": "063573916fb14a70b5f3a4bf632bb0df",
              "version_major": 2,
              "version_minor": 0
            },
            "text/plain": [
              "tokenizer_config.json:   0%|          | 0.00/50.6k [00:00<?, ?B/s]"
            ]
          },
          "metadata": {},
          "output_type": "display_data"
        },
        {
          "data": {
            "application/vnd.jupyter.widget-view+json": {
              "model_id": "0afcd017040449b49a05d9520af5e0a1",
              "version_major": 2,
              "version_minor": 0
            },
            "text/plain": [
              "tokenizer.json:   0%|          | 0.00/9.09M [00:00<?, ?B/s]"
            ]
          },
          "metadata": {},
          "output_type": "display_data"
        },
        {
          "data": {
            "application/vnd.jupyter.widget-view+json": {
              "model_id": "6e0eb8ca95704b8b835d84d844de3767",
              "version_major": 2,
              "version_minor": 0
            },
            "text/plain": [
              "special_tokens_map.json:   0%|          | 0.00/345 [00:00<?, ?B/s]"
            ]
          },
          "metadata": {},
          "output_type": "display_data"
        },
        {
          "name": "stderr",
          "output_type": "stream",
          "text": [
            "<string>:209: SyntaxWarning: invalid escape sequence '\\ '\n",
            "<string>:210: SyntaxWarning: invalid escape sequence '\\_'\n",
            "<string>:211: SyntaxWarning: invalid escape sequence '\\ '\n",
            "<string>:209: SyntaxWarning: invalid escape sequence '\\ '\n",
            "<string>:210: SyntaxWarning: invalid escape sequence '\\_'\n",
            "<string>:211: SyntaxWarning: invalid escape sequence '\\ '\n",
            "Unsloth 2024.10.0 patched 32 layers with 32 QKV layers, 32 O layers and 32 MLP layers.\n"
          ]
        }
      ],
      "source": [
        "max_seq_length = 2048\n",
        "model, tokenizer = FastLanguageModel.from_pretrained(\n",
        "    model_name=\"unsloth/Meta-Llama-3.1-8B-bnb-4bit\",\n",
        "    max_seq_length=max_seq_length,\n",
        "    load_in_4bit=True,\n",
        "    dtype=None,\n",
        ")\n",
        "\n",
        "# Prepare the model for fine-tuning with LoRA\n",
        "model = FastLanguageModel.get_peft_model(\n",
        "    model,\n",
        "    r=16,\n",
        "    lora_alpha=16,\n",
        "    lora_dropout=0,\n",
        "    target_modules=[\"q_proj\", \"k_proj\", \"v_proj\", \"up_proj\", \"down_proj\", \"o_proj\", \"gate_proj\"],\n",
        "    use_rslora=True,\n",
        "    use_gradient_checkpointing=\"unsloth\"\n",
        ")"
      ]
    },
    {
      "cell_type": "markdown",
      "metadata": {
        "id": "prepare_dataset_markdown"
      },
      "source": [
        "## Prepare the Dataset"
      ]
    },
    {
      "cell_type": "code",
      "execution_count": 3,
      "metadata": {
        "id": "prepare_dataset"
      },
      "outputs": [
        {
          "name": "stderr",
          "output_type": "stream",
          "text": [
            "Unsloth: Will map <|im_end|> to EOS = <|end_of_text|>.\n",
            "/home/dennist/miniconda3/envs/monai/lib/python3.12/site-packages/transformers/tokenization_utils_base.py:1601: FutureWarning: `clean_up_tokenization_spaces` was not set. It will be set to `True` by default. This behavior will be depracted in transformers v4.45, and will be then set to `False` by default. For more details check this issue: https://github.com/huggingface/transformers/issues/31884\n",
            "  warnings.warn(\n"
          ]
        },
        {
          "data": {
            "application/vnd.jupyter.widget-view+json": {
              "model_id": "444d262e5ead44ebb93ee6e0c5d4d1d8",
              "version_major": 2,
              "version_minor": 0
            },
            "text/plain": [
              "Downloading readme:   0%|          | 0.00/5.19k [00:00<?, ?B/s]"
            ]
          },
          "metadata": {},
          "output_type": "display_data"
        },
        {
          "data": {
            "application/vnd.jupyter.widget-view+json": {
              "model_id": "3acba5931beb45fa939aeca079e94ba6",
              "version_major": 2,
              "version_minor": 0
            },
            "text/plain": [
              "Downloading data:   0%|          | 0.00/1.08M [00:00<?, ?B/s]"
            ]
          },
          "metadata": {},
          "output_type": "display_data"
        },
        {
          "data": {
            "application/vnd.jupyter.widget-view+json": {
              "model_id": "8afb9ad42e8e4c49b2c95a78004c930f",
              "version_major": 2,
              "version_minor": 0
            },
            "text/plain": [
              "Generating train split:   0%|          | 0/1000 [00:00<?, ? examples/s]"
            ]
          },
          "metadata": {},
          "output_type": "display_data"
        },
        {
          "data": {
            "application/vnd.jupyter.widget-view+json": {
              "model_id": "2c0a287155934e1a8bfcfab4eb8232b7",
              "version_major": 2,
              "version_minor": 0
            },
            "text/plain": [
              "Map:   0%|          | 0/1000 [00:00<?, ? examples/s]"
            ]
          },
          "metadata": {},
          "output_type": "display_data"
        },
        {
          "data": {
            "application/vnd.jupyter.widget-view+json": {
              "model_id": "56e7f06f77f34aebbc02c69dd3aef5dd",
              "version_major": 2,
              "version_minor": 0
            },
            "text/plain": [
              "Map:   0%|          | 0/1000 [00:00<?, ? examples/s]"
            ]
          },
          "metadata": {},
          "output_type": "display_data"
        },
        {
          "name": "stdout",
          "output_type": "stream",
          "text": [
            "Dataset size: 1000\n",
            "Sample entry:\n",
            "<|im_start|>user\n",
            "Context: {'contexts': ['Programmed cell death (PCD) is the regulated death of cells within an organism. The lace plant (Aponogeton madagascariensis) produces perforations in its leaves through PCD. The leaves of the plant consist of a latticework of longitudinal and transverse veins enclosing areoles. PCD occurs in the cells at the center of these areoles and progresses outwards, stopping approximately five cells from the vasculature. The role of mitochondria during PCD has been...\n"
          ]
        }
      ],
      "source": [
        "# Apply chat template to the tokenizer\n",
        "tokenizer = get_chat_template(\n",
        "    tokenizer,\n",
        "    mapping={\"role\": \"from\", \"content\": \"value\", \"user\": \"human\", \"assistant\": \"gpt\"},\n",
        "    chat_template=\"chatml\",\n",
        ")\n",
        "\n",
        "# Function to format PubMedQA dataset entries\n",
        "def format_pubmedqa(example):\n",
        "    context = f\"Context: {example['context']}\\n\\n\"\n",
        "    question = f\"Question: {example['question']}\\n\\n\"\n",
        "    answer = f\"Answer: {example['long_answer']}\"\n",
        "\n",
        "    messages = [\n",
        "        {\"from\": \"human\", \"value\": context + question},\n",
        "        {\"from\": \"gpt\", \"value\": answer}\n",
        "    ]\n",
        "\n",
        "    return {\"conversations\": messages}\n",
        "\n",
        "# Function to apply the chat template to dataset entries\n",
        "def apply_template(examples):\n",
        "    # Correctly access the 'conversations' list in the examples dict\n",
        "    conversations_list = examples['conversations']\n",
        "    text = [\n",
        "        tokenizer.apply_chat_template(\n",
        "            conversations,\n",
        "            tokenize=False,\n",
        "            add_generation_prompt=True\n",
        "        ) for conversations in conversations_list\n",
        "    ]\n",
        "    return {\"text\": text}\n",
        "\n",
        "# Load and preprocess the PubMedQA dataset\n",
        "dataset = load_dataset(\"pubmed_qa\", \"pqa_labeled\", split=\"train\")\n",
        "dataset = dataset.map(format_pubmedqa)\n",
        "dataset = dataset.map(apply_template, batched=True, remove_columns=dataset.column_names)\n",
        "\n",
        "# Display dataset information\n",
        "print(f\"Dataset size: {len(dataset)}\")\n",
        "print(\"Sample entry:\")\n",
        "print(dataset[0]['text'][:500] + \"...\")\n"
      ]
    },
    {
      "cell_type": "markdown",
      "metadata": {
        "id": "training_markdown"
      },
      "source": [
        "## Set Up Training Arguments and Start Training"
      ]
    },
    {
      "cell_type": "code",
      "execution_count": 4,
      "metadata": {
        "id": "training"
      },
      "outputs": [
        {
          "data": {
            "application/vnd.jupyter.widget-view+json": {
              "model_id": "07548272d1b149658f905c13f646489b",
              "version_major": 2,
              "version_minor": 0
            },
            "text/plain": [
              "Generating train split: 0 examples [00:00, ? examples/s]"
            ]
          },
          "metadata": {},
          "output_type": "display_data"
        },
        {
          "name": "stderr",
          "output_type": "stream",
          "text": [
            "==((====))==  Unsloth - 2x faster free finetuning | Num GPUs = 1\n",
            "   \\\\   /|    Num examples = 263 | Num Epochs = 1\n",
            "O^O/ \\_/ \\    Batch size per device = 1 | Gradient Accumulation steps = 8\n",
            "\\        /    Total batch size = 8 | Total steps = 32\n",
            " \"-____-\"     Number of trainable parameters = 41,943,040\n"
          ]
        },
        {
          "data": {
            "text/html": [
              "\n",
              "    <div>\n",
              "      \n",
              "      <progress value='32' max='32' style='width:300px; height:20px; vertical-align: middle;'></progress>\n",
              "      [32/32 02:50, Epoch 0/1]\n",
              "    </div>\n",
              "    <table border=\"1\" class=\"dataframe\">\n",
              "  <thead>\n",
              " <tr style=\"text-align: left;\">\n",
              "      <th>Step</th>\n",
              "      <th>Training Loss</th>\n",
              "    </tr>\n",
              "  </thead>\n",
              "  <tbody>\n",
              "    <tr>\n",
              "      <td>10</td>\n",
              "      <td>1.460500</td>\n",
              "    </tr>\n",
              "    <tr>\n",
              "      <td>20</td>\n",
              "      <td>1.270200</td>\n",
              "    </tr>\n",
              "    <tr>\n",
              "      <td>30</td>\n",
              "      <td>1.251100</td>\n",
              "    </tr>\n",
              "  </tbody>\n",
              "</table><p>"
            ],
            "text/plain": [
              "<IPython.core.display.HTML object>"
            ]
          },
          "metadata": {},
          "output_type": "display_data"
        },
        {
          "data": {
            "text/plain": [
              "TrainOutput(global_step=32, training_loss=1.3238190189003944, metrics={'train_runtime': 181.4876, 'train_samples_per_second': 1.449, 'train_steps_per_second': 0.176, 'total_flos': 2.3740393073934336e+16, 'train_loss': 1.3238190189003944, 'epoch': 0.973384030418251})"
            ]
          },
          "execution_count": 4,
          "metadata": {},
          "output_type": "execute_result"
        }
      ],
      "source": [
        "# Initialize the trainer\n",
        "trainer = SFTTrainer(\n",
        "    model=model,\n",
        "    tokenizer=tokenizer,\n",
        "    train_dataset=dataset,\n",
        "    dataset_text_field=\"text\",\n",
        "    max_seq_length=max_seq_length,\n",
        "    dataset_num_proc=2,\n",
        "    packing=True,\n",
        "    args=TrainingArguments(\n",
        "        learning_rate=3e-4,\n",
        "        lr_scheduler_type=\"linear\",\n",
        "        per_device_train_batch_size=1,  # Reduced batch size for Colab\n",
        "        gradient_accumulation_steps=8,  # Adjusted to maintain effective batch size\n",
        "        num_train_epochs=1,\n",
        "        fp16=not is_bfloat16_supported(),\n",
        "        bf16=is_bfloat16_supported(),\n",
        "        logging_steps=10,\n",
        "        optim=\"paged_adamw_8bit\",  # Corrected optimizer name\n",
        "        weight_decay=0.01,\n",
        "        warmup_steps=10,\n",
        "        output_dir=\"output\",\n",
        "        seed=0,\n",
        "    ),\n",
        ")\n",
        "\n",
        "# Start training\n",
        "trainer.train()"
      ]
    },
    {
      "cell_type": "markdown",
      "metadata": {
        "id": "save_model_markdown"
      },
      "source": [
        "## Save the Model Locally"
      ]
    },
    {
      "cell_type": "code",
      "execution_count": 5,
      "metadata": {
        "id": "save_model"
      },
      "outputs": [
        {
          "name": "stderr",
          "output_type": "stream",
          "text": [
            "/home/dennist/miniconda3/envs/monai/lib/python3.12/site-packages/peft/tuners/lora/bnb.py:336: UserWarning: Merge lora module to 4-bit linear may get different generations due to rounding errors.\n",
            "  warnings.warn(\n"
          ]
        },
        {
          "name": "stdout",
          "output_type": "stream",
          "text": [
            "Model saved locally in 'fine_tuned_llama_3_1_pubmedqa' directory.\n"
          ]
        }
      ],
      "source": [
        "# Merge LoRA weights into the base model\n",
        "model = model.merge_and_unload()\n",
        "\n",
        "# Save the merged model\n",
        "model.save_pretrained(\"fine_tuned_llama_3_1_pubmedqa\")\n",
        "tokenizer.save_pretrained(\"fine_tuned_llama_3_1_pubmedqa\")\n",
        "print(\"Model saved locally in 'fine_tuned_llama_3_1_pubmedqa' directory.\")"
      ]
    },
    {
      "cell_type": "markdown",
      "metadata": {
        "id": "use_model_markdown"
      },
      "source": [
        "## Use the Locally Saved Model"
      ]
    },
    {
      "cell_type": "code",
      "execution_count": 16,
      "metadata": {
        "id": "use_model"
      },
      "outputs": [
        {
          "name": "stdout",
          "output_type": "stream",
          "text": [
            "==((====))==  Unsloth 2024.10.0: Fast Llama patching. Transformers = 4.44.2.\n",
            "   \\\\   /|    GPU: NVIDIA A100-SXM4-80GB. Max memory: 79.254 GB. Platform = Linux.\n",
            "O^O/ \\_/ \\    Pytorch: 2.4.1+cu121. CUDA = 8.0. CUDA Toolkit = 12.1.\n",
            "\\        /    Bfloat16 = TRUE. FA [Xformers = 0.0.28.post1. FA2 = False]\n",
            " \"-____-\"     Free Apache license: http://github.com/unslothai/unsloth\n"
          ]
        },
        {
          "data": {
            "application/vnd.jupyter.widget-view+json": {
              "model_id": "79b34eca494f4104afefaa3988745458",
              "version_major": 2,
              "version_minor": 0
            },
            "text/plain": [
              "Loading checkpoint shards:   0%|          | 0/2 [00:00<?, ?it/s]"
            ]
          },
          "metadata": {},
          "output_type": "display_data"
        },
        {
          "name": "stderr",
          "output_type": "stream",
          "text": [
            "<string>:209: SyntaxWarning: invalid escape sequence '\\ '\n",
            "<string>:210: SyntaxWarning: invalid escape sequence '\\_'\n",
            "<string>:211: SyntaxWarning: invalid escape sequence '\\ '\n",
            "<string>:209: SyntaxWarning: invalid escape sequence '\\ '\n",
            "<string>:210: SyntaxWarning: invalid escape sequence '\\_'\n",
            "<string>:211: SyntaxWarning: invalid escape sequence '\\ '\n",
            "/home/dennist/miniconda3/envs/monai/lib/python3.12/site-packages/transformers/tokenization_utils_base.py:1601: FutureWarning: `clean_up_tokenization_spaces` was not set. It will be set to `True` by default. This behavior will be depracted in transformers v4.45, and will be then set to `False` by default. For more details check this issue: https://github.com/huggingface/transformers/issues/31884\n",
            "  warnings.warn(\n"
          ]
        }
      ],
      "source": [
        "from unsloth import FastLanguageModel\n",
        "from unsloth.chat_templates import get_chat_template\n",
        "from transformers import AutoTokenizer\n",
        "import torch\n",
        "\n",
        "# Load the saved model and tokenizer\n",
        "model_path = \"fine_tuned_llama_3_1_pubmedqa\"\n",
        "max_seq_length = 2048\n",
        "tokenizer = AutoTokenizer.from_pretrained(model_path)\n",
        "\n",
        "model, tokenizer = FastLanguageModel.from_pretrained(\n",
        "    model_name=model_path,\n",
        "    max_seq_length=max_seq_length,\n",
        "    device_map=\"auto\",\n",
        "    dtype=torch.float16\n",
        ")\n",
        "\n",
        "# Prepare the model for inference\n",
        "FastLanguageModel.for_inference(model)\n",
        "\n",
        "# Apply the chat template to the tokenizer\n",
        "tokenizer = get_chat_template(\n",
        "    tokenizer,\n",
        "    mapping={\"role\": \"from\", \"content\": \"value\", \"user\": \"human\", \"assistant\": \"gpt\"},\n",
        "    chat_template=\"chatml\",\n",
        ")\n",
        "\n",
        "def generate_response(prompt, max_length=200):\n",
        "    # Format the prompt using the chat template\n",
        "    messages = [{\"from\": \"human\", \"value\": prompt}]\n",
        "    prompt_formatted = tokenizer.apply_chat_template(messages, tokenize=False, add_generation_prompt=True)\n",
        "\n",
        "    # Prevent tokenizer from returning 'token_type_ids'\n",
        "    inputs = tokenizer(prompt_formatted, return_tensors=\"pt\", return_token_type_ids=False).to(model.device)\n",
        "\n",
        "    outputs = model.generate(\n",
        "        **inputs,\n",
        "        max_length=max_length,\n",
        "        num_return_sequences=1,\n",
        "        do_sample=True,\n",
        "        temperature=0.7,\n",
        "        top_p=0.9,\n",
        "        eos_token_id=tokenizer.eos_token_id,\n",
        "        pad_token_id=tokenizer.pad_token_id,\n",
        "    )\n",
        "    output_text = tokenizer.decode(outputs[0], skip_special_tokens=True)\n",
        "\n",
        "    # Remove the prompt from the output to get only the response\n",
        "    response = output_text[len(prompt_formatted):].strip()\n",
        "    return response\n"
      ]
    },
    {
      "cell_type": "markdown",
      "metadata": {
        "id": "test_model_markdown"
      },
      "source": [
        "### Test the Model"
      ]
    },
    {
      "cell_type": "code",
      "execution_count": 17,
      "metadata": {
        "id": "test_model"
      },
      "outputs": [
        {
          "name": "stdout",
          "output_type": "stream",
          "text": [
            "Prompt: What are the potential side effects of chemotherapy?\n",
            "Response: he potential side effects of chemotherapy?\n",
            "Chemotherapy is a type of cancer treatment that uses one or more drugs to kill cancer cells. It works by interfering with the ability of cells to grow and divide. Chemotherapy can be used to cure cancer, to shrink or control the growth of cancer, or to kill cancer cells in the body.\n",
            "Chemotherapy is often used in combination with other cancer treatments, such as surgery or radiation therapy. It can be given before or after these treatments.\n",
            "The side effects of chemotherapy depend on the type of chemotherapy used and the dose given. Some of the most common side effects of chemotherapy include:\n",
            "Fatigue (feeling very tired)\n",
            "Chemotherapy can also cause side effects that are not related to the cancer itself, such as:\n",
            "Increased risk of infection\n",
            "These side effects can be caused by the chemotherapy drugs themselves or by the\n"
          ]
        }
      ],
      "source": [
        "test_prompt = \"What are the potential side effects of chemotherapy?\"\n",
        "response = generate_response(test_prompt)\n",
        "print(f\"Prompt: {test_prompt}\")\n",
        "print(f\"Response: {response}\")"
      ]
    },
    {
      "cell_type": "markdown",
      "metadata": {
        "id": "interactive_loop_markdown"
      },
      "source": [
        "### Interactive Loop for Testing"
      ]
    },
    {
      "cell_type": "code",
      "execution_count": null,
      "metadata": {
        "id": "interactive_loop"
      },
      "outputs": [],
      "source": [
        "print(\"You can now interact with the fine-tuned model. Type 'quit' to exit.\")\n",
        "while True:\n",
        "    user_input = input(\"\\nEnter a medical question (or 'quit' to exit): \")\n",
        "    if user_input.lower() == 'quit':\n",
        "        break\n",
        "    response = generate_response(user_input)\n",
        "    print(f\"Response: {response}\")"
      ]
    }
  ],
  "metadata": {
    "accelerator": "GPU",
    "colab": {
      "gpuType": "T4",
      "machine_shape": "hm",
      "provenance": []
    },
    "kernelspec": {
      "display_name": "monai",
      "language": "python",
      "name": "python3"
    },
    "language_info": {
      "codemirror_mode": {
        "name": "ipython",
        "version": 3
      },
      "file_extension": ".py",
      "mimetype": "text/x-python",
      "name": "python",
      "nbconvert_exporter": "python",
      "pygments_lexer": "ipython3",
      "version": "3.12.2"
    },
    "widgets": {
      "application/vnd.jupyter.widget-state+json": {
        "838a03284378463680739d5aa7ebb452": {
          "model_module": "@jupyter-widgets/base",
          "model_module_version": "1.2.0",
          "model_name": "LayoutModel",
          "state": {
            "_model_module": "@jupyter-widgets/base",
            "_model_module_version": "1.2.0",
            "_model_name": "LayoutModel",
            "_view_count": null,
            "_view_module": "@jupyter-widgets/base",
            "_view_module_version": "1.2.0",
            "_view_name": "LayoutView",
            "align_content": null,
            "align_items": null,
            "align_self": null,
            "border": null,
            "bottom": null,
            "display": null,
            "flex": null,
            "flex_flow": null,
            "grid_area": null,
            "grid_auto_columns": null,
            "grid_auto_flow": null,
            "grid_auto_rows": null,
            "grid_column": null,
            "grid_gap": null,
            "grid_row": null,
            "grid_template_areas": null,
            "grid_template_columns": null,
            "grid_template_rows": null,
            "height": null,
            "justify_content": null,
            "justify_items": null,
            "left": null,
            "margin": null,
            "max_height": null,
            "max_width": null,
            "min_height": null,
            "min_width": null,
            "object_fit": null,
            "object_position": null,
            "order": null,
            "overflow": null,
            "overflow_x": null,
            "overflow_y": null,
            "padding": null,
            "right": null,
            "top": null,
            "visibility": null,
            "width": null
          }
        },
        "8df0d4d7d52c4303b348f3ba8175de97": {
          "model_module": "@jupyter-widgets/controls",
          "model_module_version": "1.5.0",
          "model_name": "DescriptionStyleModel",
          "state": {
            "_model_module": "@jupyter-widgets/controls",
            "_model_module_version": "1.5.0",
            "_model_name": "DescriptionStyleModel",
            "_view_count": null,
            "_view_module": "@jupyter-widgets/base",
            "_view_module_version": "1.2.0",
            "_view_name": "StyleView",
            "description_width": ""
          }
        },
        "8f42bfd4b90c4981b01a34a73432a164": {
          "model_module": "@jupyter-widgets/base",
          "model_module_version": "1.2.0",
          "model_name": "LayoutModel",
          "state": {
            "_model_module": "@jupyter-widgets/base",
            "_model_module_version": "1.2.0",
            "_model_name": "LayoutModel",
            "_view_count": null,
            "_view_module": "@jupyter-widgets/base",
            "_view_module_version": "1.2.0",
            "_view_name": "LayoutView",
            "align_content": null,
            "align_items": null,
            "align_self": null,
            "border": null,
            "bottom": null,
            "display": null,
            "flex": null,
            "flex_flow": null,
            "grid_area": null,
            "grid_auto_columns": null,
            "grid_auto_flow": null,
            "grid_auto_rows": null,
            "grid_column": null,
            "grid_gap": null,
            "grid_row": null,
            "grid_template_areas": null,
            "grid_template_columns": null,
            "grid_template_rows": null,
            "height": null,
            "justify_content": null,
            "justify_items": null,
            "left": null,
            "margin": null,
            "max_height": null,
            "max_width": null,
            "min_height": null,
            "min_width": null,
            "object_fit": null,
            "object_position": null,
            "order": null,
            "overflow": null,
            "overflow_x": null,
            "overflow_y": null,
            "padding": null,
            "right": null,
            "top": null,
            "visibility": null,
            "width": null
          }
        },
        "9f7681a982b04fa1a082f782f6a5e5cd": {
          "model_module": "@jupyter-widgets/controls",
          "model_module_version": "1.5.0",
          "model_name": "HBoxModel",
          "state": {
            "_dom_classes": [],
            "_model_module": "@jupyter-widgets/controls",
            "_model_module_version": "1.5.0",
            "_model_name": "HBoxModel",
            "_view_count": null,
            "_view_module": "@jupyter-widgets/controls",
            "_view_module_version": "1.5.0",
            "_view_name": "HBoxView",
            "box_style": "",
            "children": [
              "IPY_MODEL_ebb3156053f749c4a26bff5eaf3d566f",
              "IPY_MODEL_da66e02928624f049c007b155cd5427f",
              "IPY_MODEL_e2be50e3c1644273b1d8c762c28a4b39"
            ],
            "layout": "IPY_MODEL_8f42bfd4b90c4981b01a34a73432a164"
          }
        },
        "bf4cff3c241a42a1bc85eb8fbc0da032": {
          "model_module": "@jupyter-widgets/base",
          "model_module_version": "1.2.0",
          "model_name": "LayoutModel",
          "state": {
            "_model_module": "@jupyter-widgets/base",
            "_model_module_version": "1.2.0",
            "_model_name": "LayoutModel",
            "_view_count": null,
            "_view_module": "@jupyter-widgets/base",
            "_view_module_version": "1.2.0",
            "_view_name": "LayoutView",
            "align_content": null,
            "align_items": null,
            "align_self": null,
            "border": null,
            "bottom": null,
            "display": null,
            "flex": null,
            "flex_flow": null,
            "grid_area": null,
            "grid_auto_columns": null,
            "grid_auto_flow": null,
            "grid_auto_rows": null,
            "grid_column": null,
            "grid_gap": null,
            "grid_row": null,
            "grid_template_areas": null,
            "grid_template_columns": null,
            "grid_template_rows": null,
            "height": null,
            "justify_content": null,
            "justify_items": null,
            "left": null,
            "margin": null,
            "max_height": null,
            "max_width": null,
            "min_height": null,
            "min_width": null,
            "object_fit": null,
            "object_position": null,
            "order": null,
            "overflow": null,
            "overflow_x": null,
            "overflow_y": null,
            "padding": null,
            "right": null,
            "top": null,
            "visibility": null,
            "width": null
          }
        },
        "cd73946cf49c49b29ef7063df65117c5": {
          "model_module": "@jupyter-widgets/base",
          "model_module_version": "1.2.0",
          "model_name": "LayoutModel",
          "state": {
            "_model_module": "@jupyter-widgets/base",
            "_model_module_version": "1.2.0",
            "_model_name": "LayoutModel",
            "_view_count": null,
            "_view_module": "@jupyter-widgets/base",
            "_view_module_version": "1.2.0",
            "_view_name": "LayoutView",
            "align_content": null,
            "align_items": null,
            "align_self": null,
            "border": null,
            "bottom": null,
            "display": null,
            "flex": null,
            "flex_flow": null,
            "grid_area": null,
            "grid_auto_columns": null,
            "grid_auto_flow": null,
            "grid_auto_rows": null,
            "grid_column": null,
            "grid_gap": null,
            "grid_row": null,
            "grid_template_areas": null,
            "grid_template_columns": null,
            "grid_template_rows": null,
            "height": null,
            "justify_content": null,
            "justify_items": null,
            "left": null,
            "margin": null,
            "max_height": null,
            "max_width": null,
            "min_height": null,
            "min_width": null,
            "object_fit": null,
            "object_position": null,
            "order": null,
            "overflow": null,
            "overflow_x": null,
            "overflow_y": null,
            "padding": null,
            "right": null,
            "top": null,
            "visibility": null,
            "width": null
          }
        },
        "da66e02928624f049c007b155cd5427f": {
          "model_module": "@jupyter-widgets/controls",
          "model_module_version": "1.5.0",
          "model_name": "FloatProgressModel",
          "state": {
            "_dom_classes": [],
            "_model_module": "@jupyter-widgets/controls",
            "_model_module_version": "1.5.0",
            "_model_name": "FloatProgressModel",
            "_view_count": null,
            "_view_module": "@jupyter-widgets/controls",
            "_view_module_version": "1.5.0",
            "_view_name": "ProgressView",
            "bar_style": "success",
            "description": "",
            "description_tooltip": null,
            "layout": "IPY_MODEL_bf4cff3c241a42a1bc85eb8fbc0da032",
            "max": 5702746390,
            "min": 0,
            "orientation": "horizontal",
            "style": "IPY_MODEL_e56d6e5e56f54041ae7247c8668d0be0",
            "value": 5702746390
          }
        },
        "dfa578e2cce94e66807f635beb4d8bed": {
          "model_module": "@jupyter-widgets/controls",
          "model_module_version": "1.5.0",
          "model_name": "DescriptionStyleModel",
          "state": {
            "_model_module": "@jupyter-widgets/controls",
            "_model_module_version": "1.5.0",
            "_model_name": "DescriptionStyleModel",
            "_view_count": null,
            "_view_module": "@jupyter-widgets/base",
            "_view_module_version": "1.2.0",
            "_view_name": "StyleView",
            "description_width": ""
          }
        },
        "e2be50e3c1644273b1d8c762c28a4b39": {
          "model_module": "@jupyter-widgets/controls",
          "model_module_version": "1.5.0",
          "model_name": "HTMLModel",
          "state": {
            "_dom_classes": [],
            "_model_module": "@jupyter-widgets/controls",
            "_model_module_version": "1.5.0",
            "_model_name": "HTMLModel",
            "_view_count": null,
            "_view_module": "@jupyter-widgets/controls",
            "_view_module_version": "1.5.0",
            "_view_name": "HTMLView",
            "description": "",
            "description_tooltip": null,
            "layout": "IPY_MODEL_838a03284378463680739d5aa7ebb452",
            "placeholder": "​",
            "style": "IPY_MODEL_8df0d4d7d52c4303b348f3ba8175de97",
            "value": " 5.70G/5.70G [00:51&lt;00:00, 119MB/s]"
          }
        },
        "e56d6e5e56f54041ae7247c8668d0be0": {
          "model_module": "@jupyter-widgets/controls",
          "model_module_version": "1.5.0",
          "model_name": "ProgressStyleModel",
          "state": {
            "_model_module": "@jupyter-widgets/controls",
            "_model_module_version": "1.5.0",
            "_model_name": "ProgressStyleModel",
            "_view_count": null,
            "_view_module": "@jupyter-widgets/base",
            "_view_module_version": "1.2.0",
            "_view_name": "StyleView",
            "bar_color": null,
            "description_width": ""
          }
        },
        "ebb3156053f749c4a26bff5eaf3d566f": {
          "model_module": "@jupyter-widgets/controls",
          "model_module_version": "1.5.0",
          "model_name": "HTMLModel",
          "state": {
            "_dom_classes": [],
            "_model_module": "@jupyter-widgets/controls",
            "_model_module_version": "1.5.0",
            "_model_name": "HTMLModel",
            "_view_count": null,
            "_view_module": "@jupyter-widgets/controls",
            "_view_module_version": "1.5.0",
            "_view_name": "HTMLView",
            "description": "",
            "description_tooltip": null,
            "layout": "IPY_MODEL_cd73946cf49c49b29ef7063df65117c5",
            "placeholder": "​",
            "style": "IPY_MODEL_dfa578e2cce94e66807f635beb4d8bed",
            "value": "model.safetensors: 100%"
          }
        }
      }
    }
  },
  "nbformat": 4,
  "nbformat_minor": 0
}
